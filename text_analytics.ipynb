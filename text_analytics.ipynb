{
 "cells": [
  {
   "cell_type": "markdown",
   "metadata": {},
   "source": [
    "## antes de iniciar o projeto instalei o pacote da biblioteca spacy para trablhar com a linguagem em português, com o comando \n",
    "\n",
    "## python -m spacy download pt_core_news_sm"
   ]
  },
  {
   "cell_type": "code",
   "execution_count": 4,
   "metadata": {},
   "outputs": [],
   "source": [
    "import pandas as pd\n",
    "import matplotlib.pyplot as plt\n",
    "import spacy \n",
    "import nltk\n",
    "import re \n",
    "from nltk import word_tokenize\n",
    "from nltk.util import ngrams\n",
    "from sklearn.decomposition import LatentDirichletAllocation\n",
    "from sklearn.feature_extraction.text import CountVectorizer\n",
    "from collections import Counter\n",
    "from spacy.lang.pt import Portuguese\n",
    "from spacy import displacy\n",
    "import pyLDAvis.lda_model\n",
    "\n",
    "import warnings\n",
    "warnings.filterwarnings('ignore')"
   ]
  },
  {
   "cell_type": "code",
   "execution_count": 5,
   "metadata": {},
   "outputs": [
    {
     "name": "stderr",
     "output_type": "stream",
     "text": [
      "[nltk_data] Downloading package punkt to /home/marcos/nltk_data...\n",
      "[nltk_data]   Package punkt is already up-to-date!\n"
     ]
    },
    {
     "data": {
      "text/plain": [
       "True"
      ]
     },
     "execution_count": 5,
     "metadata": {},
     "output_type": "execute_result"
    }
   ],
   "source": [
    "nltk.download('punkt') # baixar tratamento de pontuações"
   ]
  },
  {
   "cell_type": "markdown",
   "metadata": {},
   "source": [
    "# Conjunto de dados"
   ]
  },
  {
   "cell_type": "code",
   "execution_count": 6,
   "metadata": {},
   "outputs": [],
   "source": [
    "news = pd.read_csv('articles.csv')"
   ]
  },
  {
   "cell_type": "code",
   "execution_count": 7,
   "metadata": {},
   "outputs": [
    {
     "data": {
      "text/html": [
       "<div>\n",
       "<style scoped>\n",
       "    .dataframe tbody tr th:only-of-type {\n",
       "        vertical-align: middle;\n",
       "    }\n",
       "\n",
       "    .dataframe tbody tr th {\n",
       "        vertical-align: top;\n",
       "    }\n",
       "\n",
       "    .dataframe thead th {\n",
       "        text-align: right;\n",
       "    }\n",
       "</style>\n",
       "<table border=\"1\" class=\"dataframe\">\n",
       "  <thead>\n",
       "    <tr style=\"text-align: right;\">\n",
       "      <th></th>\n",
       "      <th>title</th>\n",
       "      <th>text</th>\n",
       "      <th>date</th>\n",
       "      <th>category</th>\n",
       "      <th>subcategory</th>\n",
       "      <th>link</th>\n",
       "    </tr>\n",
       "  </thead>\n",
       "  <tbody>\n",
       "    <tr>\n",
       "      <th>0</th>\n",
       "      <td>Lula diz que está 'lascado', mas que ainda tem...</td>\n",
       "      <td>Com a possibilidade de uma condenação impedir ...</td>\n",
       "      <td>2017-09-10</td>\n",
       "      <td>poder</td>\n",
       "      <td>NaN</td>\n",
       "      <td>http://www1.folha.uol.com.br/poder/2017/10/192...</td>\n",
       "    </tr>\n",
       "    <tr>\n",
       "      <th>1</th>\n",
       "      <td>'Decidi ser escrava das mulheres que sofrem', ...</td>\n",
       "      <td>Para Oumou Sangaré, cantora e ativista malines...</td>\n",
       "      <td>2017-09-10</td>\n",
       "      <td>ilustrada</td>\n",
       "      <td>NaN</td>\n",
       "      <td>http://www1.folha.uol.com.br/ilustrada/2017/10...</td>\n",
       "    </tr>\n",
       "    <tr>\n",
       "      <th>2</th>\n",
       "      <td>Três reportagens da Folha ganham Prêmio Petrob...</td>\n",
       "      <td>Três reportagens da Folha foram vencedoras do ...</td>\n",
       "      <td>2017-09-10</td>\n",
       "      <td>poder</td>\n",
       "      <td>NaN</td>\n",
       "      <td>http://www1.folha.uol.com.br/poder/2017/10/192...</td>\n",
       "    </tr>\n",
       "    <tr>\n",
       "      <th>3</th>\n",
       "      <td>Filme 'Star Wars: Os Últimos Jedi' ganha trail...</td>\n",
       "      <td>A Disney divulgou na noite desta segunda-feira...</td>\n",
       "      <td>2017-09-10</td>\n",
       "      <td>ilustrada</td>\n",
       "      <td>NaN</td>\n",
       "      <td>http://www1.folha.uol.com.br/ilustrada/2017/10...</td>\n",
       "    </tr>\n",
       "    <tr>\n",
       "      <th>4</th>\n",
       "      <td>CBSS inicia acordos com fintechs e quer 30% do...</td>\n",
       "      <td>O CBSS, banco da holding Elopar dos sócios Bra...</td>\n",
       "      <td>2017-09-10</td>\n",
       "      <td>mercado</td>\n",
       "      <td>NaN</td>\n",
       "      <td>http://www1.folha.uol.com.br/mercado/2017/10/1...</td>\n",
       "    </tr>\n",
       "  </tbody>\n",
       "</table>\n",
       "</div>"
      ],
      "text/plain": [
       "                                               title  \\\n",
       "0  Lula diz que está 'lascado', mas que ainda tem...   \n",
       "1  'Decidi ser escrava das mulheres que sofrem', ...   \n",
       "2  Três reportagens da Folha ganham Prêmio Petrob...   \n",
       "3  Filme 'Star Wars: Os Últimos Jedi' ganha trail...   \n",
       "4  CBSS inicia acordos com fintechs e quer 30% do...   \n",
       "\n",
       "                                                text        date   category  \\\n",
       "0  Com a possibilidade de uma condenação impedir ...  2017-09-10      poder   \n",
       "1  Para Oumou Sangaré, cantora e ativista malines...  2017-09-10  ilustrada   \n",
       "2  Três reportagens da Folha foram vencedoras do ...  2017-09-10      poder   \n",
       "3  A Disney divulgou na noite desta segunda-feira...  2017-09-10  ilustrada   \n",
       "4  O CBSS, banco da holding Elopar dos sócios Bra...  2017-09-10    mercado   \n",
       "\n",
       "  subcategory                                               link  \n",
       "0         NaN  http://www1.folha.uol.com.br/poder/2017/10/192...  \n",
       "1         NaN  http://www1.folha.uol.com.br/ilustrada/2017/10...  \n",
       "2         NaN  http://www1.folha.uol.com.br/poder/2017/10/192...  \n",
       "3         NaN  http://www1.folha.uol.com.br/ilustrada/2017/10...  \n",
       "4         NaN  http://www1.folha.uol.com.br/mercado/2017/10/1...  "
      ]
     },
     "execution_count": 7,
     "metadata": {},
     "output_type": "execute_result"
    }
   ],
   "source": [
    "news.head()"
   ]
  },
  {
   "cell_type": "code",
   "execution_count": 8,
   "metadata": {},
   "outputs": [],
   "source": [
    "turismo = news[news['category'] == 'turismo']"
   ]
  },
  {
   "cell_type": "code",
   "execution_count": 9,
   "metadata": {},
   "outputs": [
    {
     "name": "stdout",
     "output_type": "stream",
     "text": [
      "<class 'pandas.core.frame.DataFrame'>\n",
      "Index: 1903 entries, 381 to 167031\n",
      "Data columns (total 6 columns):\n",
      " #   Column       Non-Null Count  Dtype \n",
      "---  ------       --------------  ----- \n",
      " 0   title        1903 non-null   object\n",
      " 1   text         1903 non-null   object\n",
      " 2   date         1903 non-null   object\n",
      " 3   category     1903 non-null   object\n",
      " 4   subcategory  0 non-null      object\n",
      " 5   link         1903 non-null   object\n",
      "dtypes: object(6)\n",
      "memory usage: 104.1+ KB\n"
     ]
    }
   ],
   "source": [
    "turismo.info()"
   ]
  },
  {
   "cell_type": "code",
   "execution_count": 10,
   "metadata": {},
   "outputs": [],
   "source": [
    "def limpa_texto(texto):\n",
    "    c = re.sub(r'\\n', ' ', texto)\n",
    "    c = re.sub(r'\\r', ' ', c)\n",
    "    \n",
    "\n",
    "    c = c.replace(':', '')\n",
    "    c = c.replace('/', '')\n",
    "    c = re.sub(r'R\\$', '', c)\n",
    "    c = re.sub(r'\\W', ' ', c)\n",
    "    c = re.sub(r'\\W', ' ', c)\n",
    "\n",
    "    c = re.sub(r'\\s+', ' ', c)\n",
    "    c = re.sub(r'^\\s+', '', c)\n",
    "    c = re.sub(r'\\s+$', '', c)\n",
    "\n",
    "    return c.lower()"
   ]
  },
  {
   "cell_type": "code",
   "execution_count": 11,
   "metadata": {},
   "outputs": [],
   "source": [
    "STOP_WORDS = spacy.lang.pt.stop_words.STOP_WORDS"
   ]
  },
  {
   "cell_type": "code",
   "execution_count": 12,
   "metadata": {},
   "outputs": [],
   "source": [
    "# remove as palavras STOP_WORDS\n",
    "\n",
    "def remove_stop(texto):\n",
    "    doc = nlp_pt(texto)\n",
    "    return \" \".join(x.text for x in doc if x.text not in STOP_WORDS)  \n"
   ]
  },
  {
   "cell_type": "code",
   "execution_count": 13,
   "metadata": {},
   "outputs": [],
   "source": [
    "# remove as STOP_WORDS e transforma em uma palavra de dicionario (lemma)\n",
    "\n",
    "def limpa_texto2(texto):\n",
    "    doc = nlp_pt(texto)\n",
    "    return \" \".join(x.lemma_ for x in doc if x.text not in STOP_WORDS)"
   ]
  },
  {
   "cell_type": "markdown",
   "metadata": {},
   "source": [
    "## Análise Exploratória"
   ]
  },
  {
   "cell_type": "markdown",
   "metadata": {},
   "source": [
    "1 . número de palavras no título das notícias"
   ]
  },
  {
   "cell_type": "code",
   "execution_count": 14,
   "metadata": {},
   "outputs": [],
   "source": [
    "turismo['title_n_words'] = turismo['title'].apply(lambda x : len(x.split()))"
   ]
  },
  {
   "cell_type": "code",
   "execution_count": 15,
   "metadata": {},
   "outputs": [
    {
     "data": {
      "text/html": [
       "<div>\n",
       "<style scoped>\n",
       "    .dataframe tbody tr th:only-of-type {\n",
       "        vertical-align: middle;\n",
       "    }\n",
       "\n",
       "    .dataframe tbody tr th {\n",
       "        vertical-align: top;\n",
       "    }\n",
       "\n",
       "    .dataframe thead th {\n",
       "        text-align: right;\n",
       "    }\n",
       "</style>\n",
       "<table border=\"1\" class=\"dataframe\">\n",
       "  <thead>\n",
       "    <tr style=\"text-align: right;\">\n",
       "      <th></th>\n",
       "      <th>title</th>\n",
       "      <th>text</th>\n",
       "      <th>date</th>\n",
       "      <th>category</th>\n",
       "      <th>subcategory</th>\n",
       "      <th>link</th>\n",
       "      <th>title_n_words</th>\n",
       "    </tr>\n",
       "  </thead>\n",
       "  <tbody>\n",
       "    <tr>\n",
       "      <th>381</th>\n",
       "      <td>Latam inaugura voo direto de 15 horas entre Ch...</td>\n",
       "      <td>Animem-se os que pretendem cruzar o Pacífico e...</td>\n",
       "      <td>2017-06-10</td>\n",
       "      <td>turismo</td>\n",
       "      <td>NaN</td>\n",
       "      <td>http://www1.folha.uol.com.br/turismo/2017/10/1...</td>\n",
       "      <td>11</td>\n",
       "    </tr>\n",
       "    <tr>\n",
       "      <th>414</th>\n",
       "      <td>Turismo de Las Vegas deve se recuperar em mese...</td>\n",
       "      <td>O massacre em Las Vegas afetará o turismo da c...</td>\n",
       "      <td>2017-06-10</td>\n",
       "      <td>turismo</td>\n",
       "      <td>NaN</td>\n",
       "      <td>http://www1.folha.uol.com.br/turismo/2017/10/1...</td>\n",
       "      <td>11</td>\n",
       "    </tr>\n",
       "    <tr>\n",
       "      <th>522</th>\n",
       "      <td>Brasileiro cria app para economizar no passeio...</td>\n",
       "      <td>Com cerca de 50 mil visitantes por dia, Veneza...</td>\n",
       "      <td>2017-05-10</td>\n",
       "      <td>turismo</td>\n",
       "      <td>NaN</td>\n",
       "      <td>http://www1.folha.uol.com.br/turismo/2017/10/1...</td>\n",
       "      <td>11</td>\n",
       "    </tr>\n",
       "    <tr>\n",
       "      <th>602</th>\n",
       "      <td>AirBnB passa a fazer reserva de restaurantes</td>\n",
       "      <td>A plataforma de hospedagem Airbnb anunciou que...</td>\n",
       "      <td>2017-05-10</td>\n",
       "      <td>turismo</td>\n",
       "      <td>NaN</td>\n",
       "      <td>http://www1.folha.uol.com.br/turismo/2017/10/1...</td>\n",
       "      <td>7</td>\n",
       "    </tr>\n",
       "    <tr>\n",
       "      <th>609</th>\n",
       "      <td>Museus lembram quatro décadas de opressão sovi...</td>\n",
       "      <td>Nos países que viveram sob a órbita da União S...</td>\n",
       "      <td>2017-05-10</td>\n",
       "      <td>turismo</td>\n",
       "      <td>NaN</td>\n",
       "      <td>http://www1.folha.uol.com.br/turismo/2017/10/1...</td>\n",
       "      <td>10</td>\n",
       "    </tr>\n",
       "  </tbody>\n",
       "</table>\n",
       "</div>"
      ],
      "text/plain": [
       "                                                 title  \\\n",
       "381  Latam inaugura voo direto de 15 horas entre Ch...   \n",
       "414  Turismo de Las Vegas deve se recuperar em mese...   \n",
       "522  Brasileiro cria app para economizar no passeio...   \n",
       "602       AirBnB passa a fazer reserva de restaurantes   \n",
       "609  Museus lembram quatro décadas de opressão sovi...   \n",
       "\n",
       "                                                  text        date category  \\\n",
       "381  Animem-se os que pretendem cruzar o Pacífico e...  2017-06-10  turismo   \n",
       "414  O massacre em Las Vegas afetará o turismo da c...  2017-06-10  turismo   \n",
       "522  Com cerca de 50 mil visitantes por dia, Veneza...  2017-05-10  turismo   \n",
       "602  A plataforma de hospedagem Airbnb anunciou que...  2017-05-10  turismo   \n",
       "609  Nos países que viveram sob a órbita da União S...  2017-05-10  turismo   \n",
       "\n",
       "    subcategory                                               link  \\\n",
       "381         NaN  http://www1.folha.uol.com.br/turismo/2017/10/1...   \n",
       "414         NaN  http://www1.folha.uol.com.br/turismo/2017/10/1...   \n",
       "522         NaN  http://www1.folha.uol.com.br/turismo/2017/10/1...   \n",
       "602         NaN  http://www1.folha.uol.com.br/turismo/2017/10/1...   \n",
       "609         NaN  http://www1.folha.uol.com.br/turismo/2017/10/1...   \n",
       "\n",
       "     title_n_words  \n",
       "381             11  \n",
       "414             11  \n",
       "522             11  \n",
       "602              7  \n",
       "609             10  "
      ]
     },
     "execution_count": 15,
     "metadata": {},
     "output_type": "execute_result"
    }
   ],
   "source": [
    "turismo.head()"
   ]
  },
  {
   "cell_type": "code",
   "execution_count": 16,
   "metadata": {},
   "outputs": [
    {
     "data": {
      "text/html": [
       "<div>\n",
       "<style scoped>\n",
       "    .dataframe tbody tr th:only-of-type {\n",
       "        vertical-align: middle;\n",
       "    }\n",
       "\n",
       "    .dataframe tbody tr th {\n",
       "        vertical-align: top;\n",
       "    }\n",
       "\n",
       "    .dataframe thead th {\n",
       "        text-align: right;\n",
       "    }\n",
       "</style>\n",
       "<table border=\"1\" class=\"dataframe\">\n",
       "  <thead>\n",
       "    <tr style=\"text-align: right;\">\n",
       "      <th></th>\n",
       "      <th>title_n_words</th>\n",
       "    </tr>\n",
       "  </thead>\n",
       "  <tbody>\n",
       "    <tr>\n",
       "      <th>count</th>\n",
       "      <td>1903.000000</td>\n",
       "    </tr>\n",
       "    <tr>\n",
       "      <th>mean</th>\n",
       "      <td>10.923805</td>\n",
       "    </tr>\n",
       "    <tr>\n",
       "      <th>std</th>\n",
       "      <td>1.812440</td>\n",
       "    </tr>\n",
       "    <tr>\n",
       "      <th>min</th>\n",
       "      <td>4.000000</td>\n",
       "    </tr>\n",
       "    <tr>\n",
       "      <th>25%</th>\n",
       "      <td>10.000000</td>\n",
       "    </tr>\n",
       "    <tr>\n",
       "      <th>50%</th>\n",
       "      <td>11.000000</td>\n",
       "    </tr>\n",
       "    <tr>\n",
       "      <th>75%</th>\n",
       "      <td>12.000000</td>\n",
       "    </tr>\n",
       "    <tr>\n",
       "      <th>max</th>\n",
       "      <td>20.000000</td>\n",
       "    </tr>\n",
       "  </tbody>\n",
       "</table>\n",
       "</div>"
      ],
      "text/plain": [
       "       title_n_words\n",
       "count    1903.000000\n",
       "mean       10.923805\n",
       "std         1.812440\n",
       "min         4.000000\n",
       "25%        10.000000\n",
       "50%        11.000000\n",
       "75%        12.000000\n",
       "max        20.000000"
      ]
     },
     "execution_count": 16,
     "metadata": {},
     "output_type": "execute_result"
    }
   ],
   "source": [
    "turismo.describe()"
   ]
  },
  {
   "cell_type": "markdown",
   "metadata": {},
   "source": [
    "2 . número de caractéres no título das notícias"
   ]
  },
  {
   "cell_type": "code",
   "execution_count": 17,
   "metadata": {},
   "outputs": [],
   "source": [
    "turismo['title_n_chars'] = turismo['title'].apply(lambda x: len(x.replace(\" \", \"\")))"
   ]
  },
  {
   "cell_type": "code",
   "execution_count": 18,
   "metadata": {},
   "outputs": [
    {
     "data": {
      "text/html": [
       "<div>\n",
       "<style scoped>\n",
       "    .dataframe tbody tr th:only-of-type {\n",
       "        vertical-align: middle;\n",
       "    }\n",
       "\n",
       "    .dataframe tbody tr th {\n",
       "        vertical-align: top;\n",
       "    }\n",
       "\n",
       "    .dataframe thead th {\n",
       "        text-align: right;\n",
       "    }\n",
       "</style>\n",
       "<table border=\"1\" class=\"dataframe\">\n",
       "  <thead>\n",
       "    <tr style=\"text-align: right;\">\n",
       "      <th></th>\n",
       "      <th>title</th>\n",
       "      <th>text</th>\n",
       "      <th>date</th>\n",
       "      <th>category</th>\n",
       "      <th>subcategory</th>\n",
       "      <th>link</th>\n",
       "      <th>title_n_words</th>\n",
       "      <th>title_n_chars</th>\n",
       "    </tr>\n",
       "  </thead>\n",
       "  <tbody>\n",
       "    <tr>\n",
       "      <th>381</th>\n",
       "      <td>Latam inaugura voo direto de 15 horas entre Ch...</td>\n",
       "      <td>Animem-se os que pretendem cruzar o Pacífico e...</td>\n",
       "      <td>2017-06-10</td>\n",
       "      <td>turismo</td>\n",
       "      <td>NaN</td>\n",
       "      <td>http://www1.folha.uol.com.br/turismo/2017/10/1...</td>\n",
       "      <td>11</td>\n",
       "      <td>51</td>\n",
       "    </tr>\n",
       "    <tr>\n",
       "      <th>414</th>\n",
       "      <td>Turismo de Las Vegas deve se recuperar em mese...</td>\n",
       "      <td>O massacre em Las Vegas afetará o turismo da c...</td>\n",
       "      <td>2017-06-10</td>\n",
       "      <td>turismo</td>\n",
       "      <td>NaN</td>\n",
       "      <td>http://www1.folha.uol.com.br/turismo/2017/10/1...</td>\n",
       "      <td>11</td>\n",
       "      <td>54</td>\n",
       "    </tr>\n",
       "    <tr>\n",
       "      <th>522</th>\n",
       "      <td>Brasileiro cria app para economizar no passeio...</td>\n",
       "      <td>Com cerca de 50 mil visitantes por dia, Veneza...</td>\n",
       "      <td>2017-05-10</td>\n",
       "      <td>turismo</td>\n",
       "      <td>NaN</td>\n",
       "      <td>http://www1.folha.uol.com.br/turismo/2017/10/1...</td>\n",
       "      <td>11</td>\n",
       "      <td>58</td>\n",
       "    </tr>\n",
       "    <tr>\n",
       "      <th>602</th>\n",
       "      <td>AirBnB passa a fazer reserva de restaurantes</td>\n",
       "      <td>A plataforma de hospedagem Airbnb anunciou que...</td>\n",
       "      <td>2017-05-10</td>\n",
       "      <td>turismo</td>\n",
       "      <td>NaN</td>\n",
       "      <td>http://www1.folha.uol.com.br/turismo/2017/10/1...</td>\n",
       "      <td>7</td>\n",
       "      <td>38</td>\n",
       "    </tr>\n",
       "    <tr>\n",
       "      <th>609</th>\n",
       "      <td>Museus lembram quatro décadas de opressão sovi...</td>\n",
       "      <td>Nos países que viveram sob a órbita da União S...</td>\n",
       "      <td>2017-05-10</td>\n",
       "      <td>turismo</td>\n",
       "      <td>NaN</td>\n",
       "      <td>http://www1.folha.uol.com.br/turismo/2017/10/1...</td>\n",
       "      <td>10</td>\n",
       "      <td>62</td>\n",
       "    </tr>\n",
       "  </tbody>\n",
       "</table>\n",
       "</div>"
      ],
      "text/plain": [
       "                                                 title  \\\n",
       "381  Latam inaugura voo direto de 15 horas entre Ch...   \n",
       "414  Turismo de Las Vegas deve se recuperar em mese...   \n",
       "522  Brasileiro cria app para economizar no passeio...   \n",
       "602       AirBnB passa a fazer reserva de restaurantes   \n",
       "609  Museus lembram quatro décadas de opressão sovi...   \n",
       "\n",
       "                                                  text        date category  \\\n",
       "381  Animem-se os que pretendem cruzar o Pacífico e...  2017-06-10  turismo   \n",
       "414  O massacre em Las Vegas afetará o turismo da c...  2017-06-10  turismo   \n",
       "522  Com cerca de 50 mil visitantes por dia, Veneza...  2017-05-10  turismo   \n",
       "602  A plataforma de hospedagem Airbnb anunciou que...  2017-05-10  turismo   \n",
       "609  Nos países que viveram sob a órbita da União S...  2017-05-10  turismo   \n",
       "\n",
       "    subcategory                                               link  \\\n",
       "381         NaN  http://www1.folha.uol.com.br/turismo/2017/10/1...   \n",
       "414         NaN  http://www1.folha.uol.com.br/turismo/2017/10/1...   \n",
       "522         NaN  http://www1.folha.uol.com.br/turismo/2017/10/1...   \n",
       "602         NaN  http://www1.folha.uol.com.br/turismo/2017/10/1...   \n",
       "609         NaN  http://www1.folha.uol.com.br/turismo/2017/10/1...   \n",
       "\n",
       "     title_n_words  title_n_chars  \n",
       "381             11             51  \n",
       "414             11             54  \n",
       "522             11             58  \n",
       "602              7             38  \n",
       "609             10             62  "
      ]
     },
     "execution_count": 18,
     "metadata": {},
     "output_type": "execute_result"
    }
   ],
   "source": [
    "turismo.head()"
   ]
  },
  {
   "cell_type": "code",
   "execution_count": 19,
   "metadata": {},
   "outputs": [
    {
     "data": {
      "text/html": [
       "<div>\n",
       "<style scoped>\n",
       "    .dataframe tbody tr th:only-of-type {\n",
       "        vertical-align: middle;\n",
       "    }\n",
       "\n",
       "    .dataframe tbody tr th {\n",
       "        vertical-align: top;\n",
       "    }\n",
       "\n",
       "    .dataframe thead th {\n",
       "        text-align: right;\n",
       "    }\n",
       "</style>\n",
       "<table border=\"1\" class=\"dataframe\">\n",
       "  <thead>\n",
       "    <tr style=\"text-align: right;\">\n",
       "      <th></th>\n",
       "      <th>title_n_words</th>\n",
       "      <th>title_n_chars</th>\n",
       "    </tr>\n",
       "  </thead>\n",
       "  <tbody>\n",
       "    <tr>\n",
       "      <th>count</th>\n",
       "      <td>1903.000000</td>\n",
       "      <td>1903.000000</td>\n",
       "    </tr>\n",
       "    <tr>\n",
       "      <th>mean</th>\n",
       "      <td>10.923805</td>\n",
       "      <td>55.666842</td>\n",
       "    </tr>\n",
       "    <tr>\n",
       "      <th>std</th>\n",
       "      <td>1.812440</td>\n",
       "      <td>6.309523</td>\n",
       "    </tr>\n",
       "    <tr>\n",
       "      <th>min</th>\n",
       "      <td>4.000000</td>\n",
       "      <td>25.000000</td>\n",
       "    </tr>\n",
       "    <tr>\n",
       "      <th>25%</th>\n",
       "      <td>10.000000</td>\n",
       "      <td>52.000000</td>\n",
       "    </tr>\n",
       "    <tr>\n",
       "      <th>50%</th>\n",
       "      <td>11.000000</td>\n",
       "      <td>57.000000</td>\n",
       "    </tr>\n",
       "    <tr>\n",
       "      <th>75%</th>\n",
       "      <td>12.000000</td>\n",
       "      <td>60.000000</td>\n",
       "    </tr>\n",
       "    <tr>\n",
       "      <th>max</th>\n",
       "      <td>20.000000</td>\n",
       "      <td>87.000000</td>\n",
       "    </tr>\n",
       "  </tbody>\n",
       "</table>\n",
       "</div>"
      ],
      "text/plain": [
       "       title_n_words  title_n_chars\n",
       "count    1903.000000    1903.000000\n",
       "mean       10.923805      55.666842\n",
       "std         1.812440       6.309523\n",
       "min         4.000000      25.000000\n",
       "25%        10.000000      52.000000\n",
       "50%        11.000000      57.000000\n",
       "75%        12.000000      60.000000\n",
       "max        20.000000      87.000000"
      ]
     },
     "execution_count": 19,
     "metadata": {},
     "output_type": "execute_result"
    }
   ],
   "source": [
    "turismo.describe()"
   ]
  },
  {
   "cell_type": "code",
   "execution_count": 20,
   "metadata": {},
   "outputs": [
    {
     "data": {
      "image/png": "[encoded data removed]",
      "text/plain": [
       "<Figure size 640x480 with 1 Axes>"
      ]
     },
     "metadata": {},
     "output_type": "display_data"
    }
   ],
   "source": [
    "turismo.title_n_words.hist();\n",
    "plt.xlabel('número de palavras')\n",
    "plt.ylabel('qtd')\n",
    "plt.grid(False)\n",
    "plt.show()"
   ]
  },
  {
   "cell_type": "code",
   "execution_count": 21,
   "metadata": {},
   "outputs": [
    {
     "data": {
      "image/png": "[encoded data removed]",
      "text/plain": [
       "<Figure size 640x480 with 1 Axes>"
      ]
     },
     "metadata": {},
     "output_type": "display_data"
    }
   ],
   "source": [
    "turismo.title_n_chars.hist();\n",
    "plt.xlabel('número de caracteres')\n",
    "plt.ylabel('qtd')\n",
    "plt.grid(False)\n",
    "plt.show()"
   ]
  },
  {
   "cell_type": "markdown",
   "metadata": {},
   "source": [
    "## Limpeza dos dados"
   ]
  },
  {
   "cell_type": "code",
   "execution_count": 22,
   "metadata": {},
   "outputs": [],
   "source": [
    "nlp_pt = spacy.load('pt_core_news_sm')"
   ]
  },
  {
   "cell_type": "code",
   "execution_count": 23,
   "metadata": {},
   "outputs": [
    {
     "name": "stdout",
     "output_type": "stream",
     "text": [
      "Latam inaugura voo direto de 15 horas entre Chile e Austrália\n"
     ]
    }
   ],
   "source": [
    "rev = turismo.iloc[0]['title']\n",
    "print(rev)"
   ]
  },
  {
   "cell_type": "code",
   "execution_count": 24,
   "metadata": {},
   "outputs": [
    {
     "name": "stdout",
     "output_type": "stream",
     "text": [
      "latam inaugura voo direto de 15 horas entre chile e austrália\n"
     ]
    }
   ],
   "source": [
    "rev = limpa_texto(rev)\n",
    "print (rev)"
   ]
  },
  {
   "cell_type": "code",
   "execution_count": 25,
   "metadata": {},
   "outputs": [
    {
     "name": "stdout",
     "output_type": "stream",
     "text": [
      "'Viagem ao Japão é aula de cultura e tradição', diz ator Jayme Matarazzo\n"
     ]
    }
   ],
   "source": [
    "rev2 = turismo.iloc[5]['title']\n",
    "print(rev2)"
   ]
  },
  {
   "cell_type": "code",
   "execution_count": 26,
   "metadata": {},
   "outputs": [
    {
     "data": {
      "text/plain": [
       "'viagem ao japão é aula de cultura e tradição diz ator jayme matarazzo'"
      ]
     },
     "execution_count": 26,
     "metadata": {},
     "output_type": "execute_result"
    }
   ],
   "source": [
    "limpa_texto(rev2)"
   ]
  },
  {
   "cell_type": "code",
   "execution_count": 27,
   "metadata": {},
   "outputs": [],
   "source": [
    "rev = nlp_pt(rev)"
   ]
  },
  {
   "cell_type": "code",
   "execution_count": 28,
   "metadata": {},
   "outputs": [],
   "source": [
    "def exibe_token(texto):\n",
    "    col_names = ['ALPHA', 'PUNCT', 'LIKE NUM', 'POS']\n",
    "    formatted_text = '{:>16}' * (len(col_names)+1)\n",
    "    print('\\n', formatted_text.format('INPUT WORD', *col_names), '\\n', '='*130)\n",
    "\n",
    "    for token in texto:\n",
    "        output = [token.text, token.is_alpha, token.is_punct, token.like_num, token.pos_]\n",
    "        print(formatted_text.format(*output))"
   ]
  },
  {
   "cell_type": "code",
   "execution_count": 29,
   "metadata": {},
   "outputs": [
    {
     "name": "stdout",
     "output_type": "stream",
     "text": [
      "\n",
      "       INPUT WORD           ALPHA           PUNCT        LIKE NUM             POS \n",
      " ==================================================================================================================================\n",
      "           latam               1               0               0            VERB\n",
      "        inaugura               1               0               0            VERB\n",
      "             voo               1               0               0            NOUN\n",
      "          direto               1               0               0             ADJ\n",
      "              de               1               0               0             ADP\n",
      "              15               0               0               1             NUM\n",
      "           horas               1               0               0            NOUN\n",
      "           entre               1               0               0             ADP\n",
      "           chile               1               0               0           PROPN\n",
      "               e               1               0               0           CCONJ\n",
      "       austrália               1               0               0            NOUN\n"
     ]
    }
   ],
   "source": [
    "exibe_token(rev)"
   ]
  },
  {
   "cell_type": "code",
   "execution_count": 30,
   "metadata": {},
   "outputs": [
    {
     "data": {
      "text/html": [
       "<span class=\"tex2jax_ignore\"><svg xmlns=\"http://www.w3.org/2000/svg\" xmlns:xlink=\"http://www.w3.org/1999/xlink\" xml:lang=\"pt\" id=\"16798bf2f1b0433d96d48ee3c1e1b9c9-0\" class=\"displacy\" width=\"1975\" height=\"487.0\" direction=\"ltr\" style=\"max-width: none; height: 487.0px; color: #000000; background: #ffffff; font-family: Arial; direction: ltr\">\n",
       "<text class=\"displacy-token\" fill=\"currentColor\" text-anchor=\"middle\" y=\"397.0\">\n",
       "    <tspan class=\"displacy-word\" fill=\"currentColor\" x=\"50\">latam</tspan>\n",
       "    <tspan class=\"displacy-tag\" dy=\"2em\" fill=\"currentColor\" x=\"50\">VERB</tspan>\n",
       "</text>\n",
       "\n",
       "<text class=\"displacy-token\" fill=\"currentColor\" text-anchor=\"middle\" y=\"397.0\">\n",
       "    <tspan class=\"displacy-word\" fill=\"currentColor\" x=\"225\">inaugura</tspan>\n",
       "    <tspan class=\"displacy-tag\" dy=\"2em\" fill=\"currentColor\" x=\"225\">VERB</tspan>\n",
       "</text>\n",
       "\n",
       "<text class=\"displacy-token\" fill=\"currentColor\" text-anchor=\"middle\" y=\"397.0\">\n",
       "    <tspan class=\"displacy-word\" fill=\"currentColor\" x=\"400\">voo</tspan>\n",
       "    <tspan class=\"displacy-tag\" dy=\"2em\" fill=\"currentColor\" x=\"400\">NOUN</tspan>\n",
       "</text>\n",
       "\n",
       "<text class=\"displacy-token\" fill=\"currentColor\" text-anchor=\"middle\" y=\"397.0\">\n",
       "    <tspan class=\"displacy-word\" fill=\"currentColor\" x=\"575\">direto</tspan>\n",
       "    <tspan class=\"displacy-tag\" dy=\"2em\" fill=\"currentColor\" x=\"575\">ADJ</tspan>\n",
       "</text>\n",
       "\n",
       "<text class=\"displacy-token\" fill=\"currentColor\" text-anchor=\"middle\" y=\"397.0\">\n",
       "    <tspan class=\"displacy-word\" fill=\"currentColor\" x=\"750\">de</tspan>\n",
       "    <tspan class=\"displacy-tag\" dy=\"2em\" fill=\"currentColor\" x=\"750\">ADP</tspan>\n",
       "</text>\n",
       "\n",
       "<text class=\"displacy-token\" fill=\"currentColor\" text-anchor=\"middle\" y=\"397.0\">\n",
       "    <tspan class=\"displacy-word\" fill=\"currentColor\" x=\"925\">15</tspan>\n",
       "    <tspan class=\"displacy-tag\" dy=\"2em\" fill=\"currentColor\" x=\"925\">NUM</tspan>\n",
       "</text>\n",
       "\n",
       "<text class=\"displacy-token\" fill=\"currentColor\" text-anchor=\"middle\" y=\"397.0\">\n",
       "    <tspan class=\"displacy-word\" fill=\"currentColor\" x=\"1100\">horas</tspan>\n",
       "    <tspan class=\"displacy-tag\" dy=\"2em\" fill=\"currentColor\" x=\"1100\">NOUN</tspan>\n",
       "</text>\n",
       "\n",
       "<text class=\"displacy-token\" fill=\"currentColor\" text-anchor=\"middle\" y=\"397.0\">\n",
       "    <tspan class=\"displacy-word\" fill=\"currentColor\" x=\"1275\">entre</tspan>\n",
       "    <tspan class=\"displacy-tag\" dy=\"2em\" fill=\"currentColor\" x=\"1275\">ADP</tspan>\n",
       "</text>\n",
       "\n",
       "<text class=\"displacy-token\" fill=\"currentColor\" text-anchor=\"middle\" y=\"397.0\">\n",
       "    <tspan class=\"displacy-word\" fill=\"currentColor\" x=\"1450\">chile</tspan>\n",
       "    <tspan class=\"displacy-tag\" dy=\"2em\" fill=\"currentColor\" x=\"1450\">PROPN</tspan>\n",
       "</text>\n",
       "\n",
       "<text class=\"displacy-token\" fill=\"currentColor\" text-anchor=\"middle\" y=\"397.0\">\n",
       "    <tspan class=\"displacy-word\" fill=\"currentColor\" x=\"1625\">e</tspan>\n",
       "    <tspan class=\"displacy-tag\" dy=\"2em\" fill=\"currentColor\" x=\"1625\">CCONJ</tspan>\n",
       "</text>\n",
       "\n",
       "<text class=\"displacy-token\" fill=\"currentColor\" text-anchor=\"middle\" y=\"397.0\">\n",
       "    <tspan class=\"displacy-word\" fill=\"currentColor\" x=\"1800\">austrália</tspan>\n",
       "    <tspan class=\"displacy-tag\" dy=\"2em\" fill=\"currentColor\" x=\"1800\">NOUN</tspan>\n",
       "</text>\n",
       "\n",
       "<g class=\"displacy-arrow\">\n",
       "    <path class=\"displacy-arc\" id=\"arrow-16798bf2f1b0433d96d48ee3c1e1b9c9-0-0\" stroke-width=\"2px\" d=\"M70,352.0 C70,264.5 210.0,264.5 210.0,352.0\" fill=\"none\" stroke=\"currentColor\"/>\n",
       "    <text dy=\"1.25em\" style=\"font-size: 0.8em; letter-spacing: 1px\">\n",
       "        <textPath xlink:href=\"#arrow-16798bf2f1b0433d96d48ee3c1e1b9c9-0-0\" class=\"displacy-label\" startOffset=\"50%\" side=\"left\" fill=\"currentColor\" text-anchor=\"middle\">xcomp</textPath>\n",
       "    </text>\n",
       "    <path class=\"displacy-arrowhead\" d=\"M210.0,354.0 L218.0,342.0 202.0,342.0\" fill=\"currentColor\"/>\n",
       "</g>\n",
       "\n",
       "<g class=\"displacy-arrow\">\n",
       "    <path class=\"displacy-arc\" id=\"arrow-16798bf2f1b0433d96d48ee3c1e1b9c9-0-1\" stroke-width=\"2px\" d=\"M245,352.0 C245,264.5 385.0,264.5 385.0,352.0\" fill=\"none\" stroke=\"currentColor\"/>\n",
       "    <text dy=\"1.25em\" style=\"font-size: 0.8em; letter-spacing: 1px\">\n",
       "        <textPath xlink:href=\"#arrow-16798bf2f1b0433d96d48ee3c1e1b9c9-0-1\" class=\"displacy-label\" startOffset=\"50%\" side=\"left\" fill=\"currentColor\" text-anchor=\"middle\">obj</textPath>\n",
       "    </text>\n",
       "    <path class=\"displacy-arrowhead\" d=\"M385.0,354.0 L393.0,342.0 377.0,342.0\" fill=\"currentColor\"/>\n",
       "</g>\n",
       "\n",
       "<g class=\"displacy-arrow\">\n",
       "    <path class=\"displacy-arc\" id=\"arrow-16798bf2f1b0433d96d48ee3c1e1b9c9-0-2\" stroke-width=\"2px\" d=\"M420,352.0 C420,264.5 560.0,264.5 560.0,352.0\" fill=\"none\" stroke=\"currentColor\"/>\n",
       "    <text dy=\"1.25em\" style=\"font-size: 0.8em; letter-spacing: 1px\">\n",
       "        <textPath xlink:href=\"#arrow-16798bf2f1b0433d96d48ee3c1e1b9c9-0-2\" class=\"displacy-label\" startOffset=\"50%\" side=\"left\" fill=\"currentColor\" text-anchor=\"middle\">amod</textPath>\n",
       "    </text>\n",
       "    <path class=\"displacy-arrowhead\" d=\"M560.0,354.0 L568.0,342.0 552.0,342.0\" fill=\"currentColor\"/>\n",
       "</g>\n",
       "\n",
       "<g class=\"displacy-arrow\">\n",
       "    <path class=\"displacy-arc\" id=\"arrow-16798bf2f1b0433d96d48ee3c1e1b9c9-0-3\" stroke-width=\"2px\" d=\"M770,352.0 C770,177.0 1090.0,177.0 1090.0,352.0\" fill=\"none\" stroke=\"currentColor\"/>\n",
       "    <text dy=\"1.25em\" style=\"font-size: 0.8em; letter-spacing: 1px\">\n",
       "        <textPath xlink:href=\"#arrow-16798bf2f1b0433d96d48ee3c1e1b9c9-0-3\" class=\"displacy-label\" startOffset=\"50%\" side=\"left\" fill=\"currentColor\" text-anchor=\"middle\">case</textPath>\n",
       "    </text>\n",
       "    <path class=\"displacy-arrowhead\" d=\"M770,354.0 L762,342.0 778,342.0\" fill=\"currentColor\"/>\n",
       "</g>\n",
       "\n",
       "<g class=\"displacy-arrow\">\n",
       "    <path class=\"displacy-arc\" id=\"arrow-16798bf2f1b0433d96d48ee3c1e1b9c9-0-4\" stroke-width=\"2px\" d=\"M945,352.0 C945,264.5 1085.0,264.5 1085.0,352.0\" fill=\"none\" stroke=\"currentColor\"/>\n",
       "    <text dy=\"1.25em\" style=\"font-size: 0.8em; letter-spacing: 1px\">\n",
       "        <textPath xlink:href=\"#arrow-16798bf2f1b0433d96d48ee3c1e1b9c9-0-4\" class=\"displacy-label\" startOffset=\"50%\" side=\"left\" fill=\"currentColor\" text-anchor=\"middle\">nummod</textPath>\n",
       "    </text>\n",
       "    <path class=\"displacy-arrowhead\" d=\"M945,354.0 L937,342.0 953,342.0\" fill=\"currentColor\"/>\n",
       "</g>\n",
       "\n",
       "<g class=\"displacy-arrow\">\n",
       "    <path class=\"displacy-arc\" id=\"arrow-16798bf2f1b0433d96d48ee3c1e1b9c9-0-5\" stroke-width=\"2px\" d=\"M420,352.0 C420,89.5 1095.0,89.5 1095.0,352.0\" fill=\"none\" stroke=\"currentColor\"/>\n",
       "    <text dy=\"1.25em\" style=\"font-size: 0.8em; letter-spacing: 1px\">\n",
       "        <textPath xlink:href=\"#arrow-16798bf2f1b0433d96d48ee3c1e1b9c9-0-5\" class=\"displacy-label\" startOffset=\"50%\" side=\"left\" fill=\"currentColor\" text-anchor=\"middle\">nmod</textPath>\n",
       "    </text>\n",
       "    <path class=\"displacy-arrowhead\" d=\"M1095.0,354.0 L1103.0,342.0 1087.0,342.0\" fill=\"currentColor\"/>\n",
       "</g>\n",
       "\n",
       "<g class=\"displacy-arrow\">\n",
       "    <path class=\"displacy-arc\" id=\"arrow-16798bf2f1b0433d96d48ee3c1e1b9c9-0-6\" stroke-width=\"2px\" d=\"M1295,352.0 C1295,264.5 1435.0,264.5 1435.0,352.0\" fill=\"none\" stroke=\"currentColor\"/>\n",
       "    <text dy=\"1.25em\" style=\"font-size: 0.8em; letter-spacing: 1px\">\n",
       "        <textPath xlink:href=\"#arrow-16798bf2f1b0433d96d48ee3c1e1b9c9-0-6\" class=\"displacy-label\" startOffset=\"50%\" side=\"left\" fill=\"currentColor\" text-anchor=\"middle\">case</textPath>\n",
       "    </text>\n",
       "    <path class=\"displacy-arrowhead\" d=\"M1295,354.0 L1287,342.0 1303,342.0\" fill=\"currentColor\"/>\n",
       "</g>\n",
       "\n",
       "<g class=\"displacy-arrow\">\n",
       "    <path class=\"displacy-arc\" id=\"arrow-16798bf2f1b0433d96d48ee3c1e1b9c9-0-7\" stroke-width=\"2px\" d=\"M70,352.0 C70,2.0 1450.0,2.0 1450.0,352.0\" fill=\"none\" stroke=\"currentColor\"/>\n",
       "    <text dy=\"1.25em\" style=\"font-size: 0.8em; letter-spacing: 1px\">\n",
       "        <textPath xlink:href=\"#arrow-16798bf2f1b0433d96d48ee3c1e1b9c9-0-7\" class=\"displacy-label\" startOffset=\"50%\" side=\"left\" fill=\"currentColor\" text-anchor=\"middle\">obl</textPath>\n",
       "    </text>\n",
       "    <path class=\"displacy-arrowhead\" d=\"M1450.0,354.0 L1458.0,342.0 1442.0,342.0\" fill=\"currentColor\"/>\n",
       "</g>\n",
       "\n",
       "<g class=\"displacy-arrow\">\n",
       "    <path class=\"displacy-arc\" id=\"arrow-16798bf2f1b0433d96d48ee3c1e1b9c9-0-8\" stroke-width=\"2px\" d=\"M1645,352.0 C1645,264.5 1785.0,264.5 1785.0,352.0\" fill=\"none\" stroke=\"currentColor\"/>\n",
       "    <text dy=\"1.25em\" style=\"font-size: 0.8em; letter-spacing: 1px\">\n",
       "        <textPath xlink:href=\"#arrow-16798bf2f1b0433d96d48ee3c1e1b9c9-0-8\" class=\"displacy-label\" startOffset=\"50%\" side=\"left\" fill=\"currentColor\" text-anchor=\"middle\">cc</textPath>\n",
       "    </text>\n",
       "    <path class=\"displacy-arrowhead\" d=\"M1645,354.0 L1637,342.0 1653,342.0\" fill=\"currentColor\"/>\n",
       "</g>\n",
       "\n",
       "<g class=\"displacy-arrow\">\n",
       "    <path class=\"displacy-arc\" id=\"arrow-16798bf2f1b0433d96d48ee3c1e1b9c9-0-9\" stroke-width=\"2px\" d=\"M1470,352.0 C1470,177.0 1790.0,177.0 1790.0,352.0\" fill=\"none\" stroke=\"currentColor\"/>\n",
       "    <text dy=\"1.25em\" style=\"font-size: 0.8em; letter-spacing: 1px\">\n",
       "        <textPath xlink:href=\"#arrow-16798bf2f1b0433d96d48ee3c1e1b9c9-0-9\" class=\"displacy-label\" startOffset=\"50%\" side=\"left\" fill=\"currentColor\" text-anchor=\"middle\">conj</textPath>\n",
       "    </text>\n",
       "    <path class=\"displacy-arrowhead\" d=\"M1790.0,354.0 L1798.0,342.0 1782.0,342.0\" fill=\"currentColor\"/>\n",
       "</g>\n",
       "</svg></span>"
      ],
      "text/plain": [
       "<IPython.core.display.HTML object>"
      ]
     },
     "metadata": {},
     "output_type": "display_data"
    }
   ],
   "source": [
    "displacy.render(rev, style='dep', jupyter=True)"
   ]
  },
  {
   "cell_type": "code",
   "execution_count": 31,
   "metadata": {},
   "outputs": [],
   "source": [
    "rev2 = nlp_pt(rev2)"
   ]
  },
  {
   "cell_type": "code",
   "execution_count": 32,
   "metadata": {},
   "outputs": [
    {
     "name": "stdout",
     "output_type": "stream",
     "text": [
      "\n",
      "       INPUT WORD           ALPHA           PUNCT        LIKE NUM             POS \n",
      " ==================================================================================================================================\n",
      "               '               0               1               0           PUNCT\n",
      "          Viagem               1               0               0           PROPN\n",
      "              ao               1               0               0             ADP\n",
      "           Japão               1               0               0           PROPN\n",
      "               é               1               0               0             AUX\n",
      "            aula               1               0               0            NOUN\n",
      "              de               1               0               0             ADP\n",
      "         cultura               1               0               0            NOUN\n",
      "               e               1               0               0           CCONJ\n",
      "        tradição               1               0               0            NOUN\n",
      "               '               0               1               0           PUNCT\n",
      "               ,               0               1               0           PUNCT\n",
      "             diz               1               0               0            VERB\n",
      "            ator               1               0               0            NOUN\n",
      "           Jayme               1               0               0           PROPN\n",
      "       Matarazzo               1               0               0           PROPN\n"
     ]
    }
   ],
   "source": [
    "exibe_token(rev2)"
   ]
  },
  {
   "cell_type": "code",
   "execution_count": 33,
   "metadata": {},
   "outputs": [
    {
     "data": {
      "text/html": [
       "<span class=\"tex2jax_ignore\"><svg xmlns=\"http://www.w3.org/2000/svg\" xmlns:xlink=\"http://www.w3.org/1999/xlink\" xml:lang=\"pt\" id=\"3891ada945584fb69b79e956783413ed-0\" class=\"displacy\" width=\"2500\" height=\"399.5\" direction=\"ltr\" style=\"max-width: none; height: 399.5px; color: #000000; background: #ffffff; font-family: Arial; direction: ltr\">\n",
       "<text class=\"displacy-token\" fill=\"currentColor\" text-anchor=\"middle\" y=\"309.5\">\n",
       "    <tspan class=\"displacy-word\" fill=\"currentColor\" x=\"50\">'</tspan>\n",
       "    <tspan class=\"displacy-tag\" dy=\"2em\" fill=\"currentColor\" x=\"50\">PUNCT</tspan>\n",
       "</text>\n",
       "\n",
       "<text class=\"displacy-token\" fill=\"currentColor\" text-anchor=\"middle\" y=\"309.5\">\n",
       "    <tspan class=\"displacy-word\" fill=\"currentColor\" x=\"225\">Viagem</tspan>\n",
       "    <tspan class=\"displacy-tag\" dy=\"2em\" fill=\"currentColor\" x=\"225\">PROPN</tspan>\n",
       "</text>\n",
       "\n",
       "<text class=\"displacy-token\" fill=\"currentColor\" text-anchor=\"middle\" y=\"309.5\">\n",
       "    <tspan class=\"displacy-word\" fill=\"currentColor\" x=\"400\">ao</tspan>\n",
       "    <tspan class=\"displacy-tag\" dy=\"2em\" fill=\"currentColor\" x=\"400\">ADP</tspan>\n",
       "</text>\n",
       "\n",
       "<text class=\"displacy-token\" fill=\"currentColor\" text-anchor=\"middle\" y=\"309.5\">\n",
       "    <tspan class=\"displacy-word\" fill=\"currentColor\" x=\"575\">Japão</tspan>\n",
       "    <tspan class=\"displacy-tag\" dy=\"2em\" fill=\"currentColor\" x=\"575\">PROPN</tspan>\n",
       "</text>\n",
       "\n",
       "<text class=\"displacy-token\" fill=\"currentColor\" text-anchor=\"middle\" y=\"309.5\">\n",
       "    <tspan class=\"displacy-word\" fill=\"currentColor\" x=\"750\">é</tspan>\n",
       "    <tspan class=\"displacy-tag\" dy=\"2em\" fill=\"currentColor\" x=\"750\">AUX</tspan>\n",
       "</text>\n",
       "\n",
       "<text class=\"displacy-token\" fill=\"currentColor\" text-anchor=\"middle\" y=\"309.5\">\n",
       "    <tspan class=\"displacy-word\" fill=\"currentColor\" x=\"925\">aula</tspan>\n",
       "    <tspan class=\"displacy-tag\" dy=\"2em\" fill=\"currentColor\" x=\"925\">NOUN</tspan>\n",
       "</text>\n",
       "\n",
       "<text class=\"displacy-token\" fill=\"currentColor\" text-anchor=\"middle\" y=\"309.5\">\n",
       "    <tspan class=\"displacy-word\" fill=\"currentColor\" x=\"1100\">de</tspan>\n",
       "    <tspan class=\"displacy-tag\" dy=\"2em\" fill=\"currentColor\" x=\"1100\">ADP</tspan>\n",
       "</text>\n",
       "\n",
       "<text class=\"displacy-token\" fill=\"currentColor\" text-anchor=\"middle\" y=\"309.5\">\n",
       "    <tspan class=\"displacy-word\" fill=\"currentColor\" x=\"1275\">cultura</tspan>\n",
       "    <tspan class=\"displacy-tag\" dy=\"2em\" fill=\"currentColor\" x=\"1275\">NOUN</tspan>\n",
       "</text>\n",
       "\n",
       "<text class=\"displacy-token\" fill=\"currentColor\" text-anchor=\"middle\" y=\"309.5\">\n",
       "    <tspan class=\"displacy-word\" fill=\"currentColor\" x=\"1450\">e</tspan>\n",
       "    <tspan class=\"displacy-tag\" dy=\"2em\" fill=\"currentColor\" x=\"1450\">CCONJ</tspan>\n",
       "</text>\n",
       "\n",
       "<text class=\"displacy-token\" fill=\"currentColor\" text-anchor=\"middle\" y=\"309.5\">\n",
       "    <tspan class=\"displacy-word\" fill=\"currentColor\" x=\"1625\">tradição',</tspan>\n",
       "    <tspan class=\"displacy-tag\" dy=\"2em\" fill=\"currentColor\" x=\"1625\">NOUN</tspan>\n",
       "</text>\n",
       "\n",
       "<text class=\"displacy-token\" fill=\"currentColor\" text-anchor=\"middle\" y=\"309.5\">\n",
       "    <tspan class=\"displacy-word\" fill=\"currentColor\" x=\"1800\">diz</tspan>\n",
       "    <tspan class=\"displacy-tag\" dy=\"2em\" fill=\"currentColor\" x=\"1800\">VERB</tspan>\n",
       "</text>\n",
       "\n",
       "<text class=\"displacy-token\" fill=\"currentColor\" text-anchor=\"middle\" y=\"309.5\">\n",
       "    <tspan class=\"displacy-word\" fill=\"currentColor\" x=\"1975\">ator</tspan>\n",
       "    <tspan class=\"displacy-tag\" dy=\"2em\" fill=\"currentColor\" x=\"1975\">NOUN</tspan>\n",
       "</text>\n",
       "\n",
       "<text class=\"displacy-token\" fill=\"currentColor\" text-anchor=\"middle\" y=\"309.5\">\n",
       "    <tspan class=\"displacy-word\" fill=\"currentColor\" x=\"2150\">Jayme</tspan>\n",
       "    <tspan class=\"displacy-tag\" dy=\"2em\" fill=\"currentColor\" x=\"2150\">PROPN</tspan>\n",
       "</text>\n",
       "\n",
       "<text class=\"displacy-token\" fill=\"currentColor\" text-anchor=\"middle\" y=\"309.5\">\n",
       "    <tspan class=\"displacy-word\" fill=\"currentColor\" x=\"2325\">Matarazzo</tspan>\n",
       "    <tspan class=\"displacy-tag\" dy=\"2em\" fill=\"currentColor\" x=\"2325\">PROPN</tspan>\n",
       "</text>\n",
       "\n",
       "<g class=\"displacy-arrow\">\n",
       "    <path class=\"displacy-arc\" id=\"arrow-3891ada945584fb69b79e956783413ed-0-0\" stroke-width=\"2px\" d=\"M70,264.5 C70,177.0 215.0,177.0 215.0,264.5\" fill=\"none\" stroke=\"currentColor\"/>\n",
       "    <text dy=\"1.25em\" style=\"font-size: 0.8em; letter-spacing: 1px\">\n",
       "        <textPath xlink:href=\"#arrow-3891ada945584fb69b79e956783413ed-0-0\" class=\"displacy-label\" startOffset=\"50%\" side=\"left\" fill=\"currentColor\" text-anchor=\"middle\">punct</textPath>\n",
       "    </text>\n",
       "    <path class=\"displacy-arrowhead\" d=\"M70,266.5 L62,254.5 78,254.5\" fill=\"currentColor\"/>\n",
       "</g>\n",
       "\n",
       "<g class=\"displacy-arrow\">\n",
       "    <path class=\"displacy-arc\" id=\"arrow-3891ada945584fb69b79e956783413ed-0-1\" stroke-width=\"2px\" d=\"M245,264.5 C245,2.0 925.0,2.0 925.0,264.5\" fill=\"none\" stroke=\"currentColor\"/>\n",
       "    <text dy=\"1.25em\" style=\"font-size: 0.8em; letter-spacing: 1px\">\n",
       "        <textPath xlink:href=\"#arrow-3891ada945584fb69b79e956783413ed-0-1\" class=\"displacy-label\" startOffset=\"50%\" side=\"left\" fill=\"currentColor\" text-anchor=\"middle\">nsubj</textPath>\n",
       "    </text>\n",
       "    <path class=\"displacy-arrowhead\" d=\"M245,266.5 L237,254.5 253,254.5\" fill=\"currentColor\"/>\n",
       "</g>\n",
       "\n",
       "<g class=\"displacy-arrow\">\n",
       "    <path class=\"displacy-arc\" id=\"arrow-3891ada945584fb69b79e956783413ed-0-2\" stroke-width=\"2px\" d=\"M420,264.5 C420,177.0 565.0,177.0 565.0,264.5\" fill=\"none\" stroke=\"currentColor\"/>\n",
       "    <text dy=\"1.25em\" style=\"font-size: 0.8em; letter-spacing: 1px\">\n",
       "        <textPath xlink:href=\"#arrow-3891ada945584fb69b79e956783413ed-0-2\" class=\"displacy-label\" startOffset=\"50%\" side=\"left\" fill=\"currentColor\" text-anchor=\"middle\">case</textPath>\n",
       "    </text>\n",
       "    <path class=\"displacy-arrowhead\" d=\"M420,266.5 L412,254.5 428,254.5\" fill=\"currentColor\"/>\n",
       "</g>\n",
       "\n",
       "<g class=\"displacy-arrow\">\n",
       "    <path class=\"displacy-arc\" id=\"arrow-3891ada945584fb69b79e956783413ed-0-3\" stroke-width=\"2px\" d=\"M245,264.5 C245,89.5 570.0,89.5 570.0,264.5\" fill=\"none\" stroke=\"currentColor\"/>\n",
       "    <text dy=\"1.25em\" style=\"font-size: 0.8em; letter-spacing: 1px\">\n",
       "        <textPath xlink:href=\"#arrow-3891ada945584fb69b79e956783413ed-0-3\" class=\"displacy-label\" startOffset=\"50%\" side=\"left\" fill=\"currentColor\" text-anchor=\"middle\">nmod</textPath>\n",
       "    </text>\n",
       "    <path class=\"displacy-arrowhead\" d=\"M570.0,266.5 L578.0,254.5 562.0,254.5\" fill=\"currentColor\"/>\n",
       "</g>\n",
       "\n",
       "<g class=\"displacy-arrow\">\n",
       "    <path class=\"displacy-arc\" id=\"arrow-3891ada945584fb69b79e956783413ed-0-4\" stroke-width=\"2px\" d=\"M770,264.5 C770,177.0 915.0,177.0 915.0,264.5\" fill=\"none\" stroke=\"currentColor\"/>\n",
       "    <text dy=\"1.25em\" style=\"font-size: 0.8em; letter-spacing: 1px\">\n",
       "        <textPath xlink:href=\"#arrow-3891ada945584fb69b79e956783413ed-0-4\" class=\"displacy-label\" startOffset=\"50%\" side=\"left\" fill=\"currentColor\" text-anchor=\"middle\">cop</textPath>\n",
       "    </text>\n",
       "    <path class=\"displacy-arrowhead\" d=\"M770,266.5 L762,254.5 778,254.5\" fill=\"currentColor\"/>\n",
       "</g>\n",
       "\n",
       "<g class=\"displacy-arrow\">\n",
       "    <path class=\"displacy-arc\" id=\"arrow-3891ada945584fb69b79e956783413ed-0-5\" stroke-width=\"2px\" d=\"M945,264.5 C945,2.0 1800.0,2.0 1800.0,264.5\" fill=\"none\" stroke=\"currentColor\"/>\n",
       "    <text dy=\"1.25em\" style=\"font-size: 0.8em; letter-spacing: 1px\">\n",
       "        <textPath xlink:href=\"#arrow-3891ada945584fb69b79e956783413ed-0-5\" class=\"displacy-label\" startOffset=\"50%\" side=\"left\" fill=\"currentColor\" text-anchor=\"middle\">parataxis</textPath>\n",
       "    </text>\n",
       "    <path class=\"displacy-arrowhead\" d=\"M945,266.5 L937,254.5 953,254.5\" fill=\"currentColor\"/>\n",
       "</g>\n",
       "\n",
       "<g class=\"displacy-arrow\">\n",
       "    <path class=\"displacy-arc\" id=\"arrow-3891ada945584fb69b79e956783413ed-0-6\" stroke-width=\"2px\" d=\"M1120,264.5 C1120,177.0 1265.0,177.0 1265.0,264.5\" fill=\"none\" stroke=\"currentColor\"/>\n",
       "    <text dy=\"1.25em\" style=\"font-size: 0.8em; letter-spacing: 1px\">\n",
       "        <textPath xlink:href=\"#arrow-3891ada945584fb69b79e956783413ed-0-6\" class=\"displacy-label\" startOffset=\"50%\" side=\"left\" fill=\"currentColor\" text-anchor=\"middle\">case</textPath>\n",
       "    </text>\n",
       "    <path class=\"displacy-arrowhead\" d=\"M1120,266.5 L1112,254.5 1128,254.5\" fill=\"currentColor\"/>\n",
       "</g>\n",
       "\n",
       "<g class=\"displacy-arrow\">\n",
       "    <path class=\"displacy-arc\" id=\"arrow-3891ada945584fb69b79e956783413ed-0-7\" stroke-width=\"2px\" d=\"M945,264.5 C945,89.5 1270.0,89.5 1270.0,264.5\" fill=\"none\" stroke=\"currentColor\"/>\n",
       "    <text dy=\"1.25em\" style=\"font-size: 0.8em; letter-spacing: 1px\">\n",
       "        <textPath xlink:href=\"#arrow-3891ada945584fb69b79e956783413ed-0-7\" class=\"displacy-label\" startOffset=\"50%\" side=\"left\" fill=\"currentColor\" text-anchor=\"middle\">nmod</textPath>\n",
       "    </text>\n",
       "    <path class=\"displacy-arrowhead\" d=\"M1270.0,266.5 L1278.0,254.5 1262.0,254.5\" fill=\"currentColor\"/>\n",
       "</g>\n",
       "\n",
       "<g class=\"displacy-arrow\">\n",
       "    <path class=\"displacy-arc\" id=\"arrow-3891ada945584fb69b79e956783413ed-0-8\" stroke-width=\"2px\" d=\"M1470,264.5 C1470,177.0 1615.0,177.0 1615.0,264.5\" fill=\"none\" stroke=\"currentColor\"/>\n",
       "    <text dy=\"1.25em\" style=\"font-size: 0.8em; letter-spacing: 1px\">\n",
       "        <textPath xlink:href=\"#arrow-3891ada945584fb69b79e956783413ed-0-8\" class=\"displacy-label\" startOffset=\"50%\" side=\"left\" fill=\"currentColor\" text-anchor=\"middle\">cc</textPath>\n",
       "    </text>\n",
       "    <path class=\"displacy-arrowhead\" d=\"M1470,266.5 L1462,254.5 1478,254.5\" fill=\"currentColor\"/>\n",
       "</g>\n",
       "\n",
       "<g class=\"displacy-arrow\">\n",
       "    <path class=\"displacy-arc\" id=\"arrow-3891ada945584fb69b79e956783413ed-0-9\" stroke-width=\"2px\" d=\"M1295,264.5 C1295,89.5 1620.0,89.5 1620.0,264.5\" fill=\"none\" stroke=\"currentColor\"/>\n",
       "    <text dy=\"1.25em\" style=\"font-size: 0.8em; letter-spacing: 1px\">\n",
       "        <textPath xlink:href=\"#arrow-3891ada945584fb69b79e956783413ed-0-9\" class=\"displacy-label\" startOffset=\"50%\" side=\"left\" fill=\"currentColor\" text-anchor=\"middle\">conj</textPath>\n",
       "    </text>\n",
       "    <path class=\"displacy-arrowhead\" d=\"M1620.0,266.5 L1628.0,254.5 1612.0,254.5\" fill=\"currentColor\"/>\n",
       "</g>\n",
       "\n",
       "<g class=\"displacy-arrow\">\n",
       "    <path class=\"displacy-arc\" id=\"arrow-3891ada945584fb69b79e956783413ed-0-10\" stroke-width=\"2px\" d=\"M1820,264.5 C1820,177.0 1965.0,177.0 1965.0,264.5\" fill=\"none\" stroke=\"currentColor\"/>\n",
       "    <text dy=\"1.25em\" style=\"font-size: 0.8em; letter-spacing: 1px\">\n",
       "        <textPath xlink:href=\"#arrow-3891ada945584fb69b79e956783413ed-0-10\" class=\"displacy-label\" startOffset=\"50%\" side=\"left\" fill=\"currentColor\" text-anchor=\"middle\">nsubj</textPath>\n",
       "    </text>\n",
       "    <path class=\"displacy-arrowhead\" d=\"M1965.0,266.5 L1973.0,254.5 1957.0,254.5\" fill=\"currentColor\"/>\n",
       "</g>\n",
       "\n",
       "<g class=\"displacy-arrow\">\n",
       "    <path class=\"displacy-arc\" id=\"arrow-3891ada945584fb69b79e956783413ed-0-11\" stroke-width=\"2px\" d=\"M1995,264.5 C1995,177.0 2140.0,177.0 2140.0,264.5\" fill=\"none\" stroke=\"currentColor\"/>\n",
       "    <text dy=\"1.25em\" style=\"font-size: 0.8em; letter-spacing: 1px\">\n",
       "        <textPath xlink:href=\"#arrow-3891ada945584fb69b79e956783413ed-0-11\" class=\"displacy-label\" startOffset=\"50%\" side=\"left\" fill=\"currentColor\" text-anchor=\"middle\">appos</textPath>\n",
       "    </text>\n",
       "    <path class=\"displacy-arrowhead\" d=\"M2140.0,266.5 L2148.0,254.5 2132.0,254.5\" fill=\"currentColor\"/>\n",
       "</g>\n",
       "\n",
       "<g class=\"displacy-arrow\">\n",
       "    <path class=\"displacy-arc\" id=\"arrow-3891ada945584fb69b79e956783413ed-0-12\" stroke-width=\"2px\" d=\"M2170,264.5 C2170,177.0 2315.0,177.0 2315.0,264.5\" fill=\"none\" stroke=\"currentColor\"/>\n",
       "    <text dy=\"1.25em\" style=\"font-size: 0.8em; letter-spacing: 1px\">\n",
       "        <textPath xlink:href=\"#arrow-3891ada945584fb69b79e956783413ed-0-12\" class=\"displacy-label\" startOffset=\"50%\" side=\"left\" fill=\"currentColor\" text-anchor=\"middle\">flat:name</textPath>\n",
       "    </text>\n",
       "    <path class=\"displacy-arrowhead\" d=\"M2315.0,266.5 L2323.0,254.5 2307.0,254.5\" fill=\"currentColor\"/>\n",
       "</g>\n",
       "</svg></span>"
      ],
      "text/plain": [
       "<IPython.core.display.HTML object>"
      ]
     },
     "metadata": {},
     "output_type": "display_data"
    }
   ],
   "source": [
    "displacy.render(rev2, style='dep', jupyter=True)"
   ]
  },
  {
   "cell_type": "code",
   "execution_count": 34,
   "metadata": {},
   "outputs": [],
   "source": [
    "turismo['title_clean'] = turismo['title'].apply(lambda x: limpa_texto(x))"
   ]
  },
  {
   "cell_type": "code",
   "execution_count": 35,
   "metadata": {},
   "outputs": [
    {
     "data": {
      "text/html": [
       "<div>\n",
       "<style scoped>\n",
       "    .dataframe tbody tr th:only-of-type {\n",
       "        vertical-align: middle;\n",
       "    }\n",
       "\n",
       "    .dataframe tbody tr th {\n",
       "        vertical-align: top;\n",
       "    }\n",
       "\n",
       "    .dataframe thead th {\n",
       "        text-align: right;\n",
       "    }\n",
       "</style>\n",
       "<table border=\"1\" class=\"dataframe\">\n",
       "  <thead>\n",
       "    <tr style=\"text-align: right;\">\n",
       "      <th></th>\n",
       "      <th>title</th>\n",
       "      <th>text</th>\n",
       "      <th>date</th>\n",
       "      <th>category</th>\n",
       "      <th>subcategory</th>\n",
       "      <th>link</th>\n",
       "      <th>title_n_words</th>\n",
       "      <th>title_n_chars</th>\n",
       "      <th>title_clean</th>\n",
       "    </tr>\n",
       "  </thead>\n",
       "  <tbody>\n",
       "    <tr>\n",
       "      <th>381</th>\n",
       "      <td>Latam inaugura voo direto de 15 horas entre Ch...</td>\n",
       "      <td>Animem-se os que pretendem cruzar o Pacífico e...</td>\n",
       "      <td>2017-06-10</td>\n",
       "      <td>turismo</td>\n",
       "      <td>NaN</td>\n",
       "      <td>http://www1.folha.uol.com.br/turismo/2017/10/1...</td>\n",
       "      <td>11</td>\n",
       "      <td>51</td>\n",
       "      <td>latam inaugura voo direto de 15 horas entre ch...</td>\n",
       "    </tr>\n",
       "    <tr>\n",
       "      <th>414</th>\n",
       "      <td>Turismo de Las Vegas deve se recuperar em mese...</td>\n",
       "      <td>O massacre em Las Vegas afetará o turismo da c...</td>\n",
       "      <td>2017-06-10</td>\n",
       "      <td>turismo</td>\n",
       "      <td>NaN</td>\n",
       "      <td>http://www1.folha.uol.com.br/turismo/2017/10/1...</td>\n",
       "      <td>11</td>\n",
       "      <td>54</td>\n",
       "      <td>turismo de las vegas deve se recuperar em mese...</td>\n",
       "    </tr>\n",
       "    <tr>\n",
       "      <th>522</th>\n",
       "      <td>Brasileiro cria app para economizar no passeio...</td>\n",
       "      <td>Com cerca de 50 mil visitantes por dia, Veneza...</td>\n",
       "      <td>2017-05-10</td>\n",
       "      <td>turismo</td>\n",
       "      <td>NaN</td>\n",
       "      <td>http://www1.folha.uol.com.br/turismo/2017/10/1...</td>\n",
       "      <td>11</td>\n",
       "      <td>58</td>\n",
       "      <td>brasileiro cria app para economizar no passeio...</td>\n",
       "    </tr>\n",
       "    <tr>\n",
       "      <th>602</th>\n",
       "      <td>AirBnB passa a fazer reserva de restaurantes</td>\n",
       "      <td>A plataforma de hospedagem Airbnb anunciou que...</td>\n",
       "      <td>2017-05-10</td>\n",
       "      <td>turismo</td>\n",
       "      <td>NaN</td>\n",
       "      <td>http://www1.folha.uol.com.br/turismo/2017/10/1...</td>\n",
       "      <td>7</td>\n",
       "      <td>38</td>\n",
       "      <td>airbnb passa a fazer reserva de restaurantes</td>\n",
       "    </tr>\n",
       "    <tr>\n",
       "      <th>609</th>\n",
       "      <td>Museus lembram quatro décadas de opressão sovi...</td>\n",
       "      <td>Nos países que viveram sob a órbita da União S...</td>\n",
       "      <td>2017-05-10</td>\n",
       "      <td>turismo</td>\n",
       "      <td>NaN</td>\n",
       "      <td>http://www1.folha.uol.com.br/turismo/2017/10/1...</td>\n",
       "      <td>10</td>\n",
       "      <td>62</td>\n",
       "      <td>museus lembram quatro décadas de opressão sovi...</td>\n",
       "    </tr>\n",
       "    <tr>\n",
       "      <th>...</th>\n",
       "      <td>...</td>\n",
       "      <td>...</td>\n",
       "      <td>...</td>\n",
       "      <td>...</td>\n",
       "      <td>...</td>\n",
       "      <td>...</td>\n",
       "      <td>...</td>\n",
       "      <td>...</td>\n",
       "      <td>...</td>\n",
       "    </tr>\n",
       "    <tr>\n",
       "      <th>166982</th>\n",
       "      <td>Fotógrafo Gustavo Epifanio foi a cidades da co...</td>\n",
       "      <td>O fotógrafo Gustavo Epifanio fez uma viagem de...</td>\n",
       "      <td>2015-01-01</td>\n",
       "      <td>turismo</td>\n",
       "      <td>NaN</td>\n",
       "      <td>http://www1.folha.uol.com.br/turismo/2015/01/1...</td>\n",
       "      <td>10</td>\n",
       "      <td>56</td>\n",
       "      <td>fotógrafo gustavo epifanio foi a cidades da co...</td>\n",
       "    </tr>\n",
       "    <tr>\n",
       "      <th>167005</th>\n",
       "      <td>Conheça dez rituais tradicionais de passagem d...</td>\n",
       "      <td>Bater panelas nas janelas, quebrar pratos em f...</td>\n",
       "      <td>2015-01-01</td>\n",
       "      <td>turismo</td>\n",
       "      <td>NaN</td>\n",
       "      <td>http://www1.folha.uol.com.br/turismo/2015/01/1...</td>\n",
       "      <td>12</td>\n",
       "      <td>58</td>\n",
       "      <td>conheça dez rituais tradicionais de passagem d...</td>\n",
       "    </tr>\n",
       "    <tr>\n",
       "      <th>167007</th>\n",
       "      <td>Metrô de Londres vai ficar mais barato para tu...</td>\n",
       "      <td>Londres, que tem um dos sistemas de transporte...</td>\n",
       "      <td>2015-01-01</td>\n",
       "      <td>turismo</td>\n",
       "      <td>NaN</td>\n",
       "      <td>http://www1.folha.uol.com.br/turismo/2015/01/1...</td>\n",
       "      <td>11</td>\n",
       "      <td>52</td>\n",
       "      <td>metrô de londres vai ficar mais barato para tu...</td>\n",
       "    </tr>\n",
       "    <tr>\n",
       "      <th>167011</th>\n",
       "      <td>Redes estrangeiras de hotéis econômicos amplia...</td>\n",
       "      <td>A estrutura hoteleira do país, que tem ganhado...</td>\n",
       "      <td>2015-01-01</td>\n",
       "      <td>turismo</td>\n",
       "      <td>NaN</td>\n",
       "      <td>http://www1.folha.uol.com.br/turismo/2015/01/1...</td>\n",
       "      <td>9</td>\n",
       "      <td>56</td>\n",
       "      <td>redes estrangeiras de hotéis econômicos amplia...</td>\n",
       "    </tr>\n",
       "    <tr>\n",
       "      <th>167031</th>\n",
       "      <td>'Turismo' estreia no Instagram com dicas de vi...</td>\n",
       "      <td>O \"Turismo\" prepara uma seleção de dicas, novi...</td>\n",
       "      <td>2015-01-01</td>\n",
       "      <td>turismo</td>\n",
       "      <td>NaN</td>\n",
       "      <td>http://www1.folha.uol.com.br/turismo/2015/01/1...</td>\n",
       "      <td>11</td>\n",
       "      <td>61</td>\n",
       "      <td>turismo estreia no instagram com dicas de viag...</td>\n",
       "    </tr>\n",
       "  </tbody>\n",
       "</table>\n",
       "<p>1903 rows × 9 columns</p>\n",
       "</div>"
      ],
      "text/plain": [
       "                                                    title  \\\n",
       "381     Latam inaugura voo direto de 15 horas entre Ch...   \n",
       "414     Turismo de Las Vegas deve se recuperar em mese...   \n",
       "522     Brasileiro cria app para economizar no passeio...   \n",
       "602          AirBnB passa a fazer reserva de restaurantes   \n",
       "609     Museus lembram quatro décadas de opressão sovi...   \n",
       "...                                                   ...   \n",
       "166982  Fotógrafo Gustavo Epifanio foi a cidades da co...   \n",
       "167005  Conheça dez rituais tradicionais de passagem d...   \n",
       "167007  Metrô de Londres vai ficar mais barato para tu...   \n",
       "167011  Redes estrangeiras de hotéis econômicos amplia...   \n",
       "167031  'Turismo' estreia no Instagram com dicas de vi...   \n",
       "\n",
       "                                                     text        date  \\\n",
       "381     Animem-se os que pretendem cruzar o Pacífico e...  2017-06-10   \n",
       "414     O massacre em Las Vegas afetará o turismo da c...  2017-06-10   \n",
       "522     Com cerca de 50 mil visitantes por dia, Veneza...  2017-05-10   \n",
       "602     A plataforma de hospedagem Airbnb anunciou que...  2017-05-10   \n",
       "609     Nos países que viveram sob a órbita da União S...  2017-05-10   \n",
       "...                                                   ...         ...   \n",
       "166982  O fotógrafo Gustavo Epifanio fez uma viagem de...  2015-01-01   \n",
       "167005  Bater panelas nas janelas, quebrar pratos em f...  2015-01-01   \n",
       "167007  Londres, que tem um dos sistemas de transporte...  2015-01-01   \n",
       "167011  A estrutura hoteleira do país, que tem ganhado...  2015-01-01   \n",
       "167031  O \"Turismo\" prepara uma seleção de dicas, novi...  2015-01-01   \n",
       "\n",
       "       category subcategory  \\\n",
       "381     turismo         NaN   \n",
       "414     turismo         NaN   \n",
       "522     turismo         NaN   \n",
       "602     turismo         NaN   \n",
       "609     turismo         NaN   \n",
       "...         ...         ...   \n",
       "166982  turismo         NaN   \n",
       "167005  turismo         NaN   \n",
       "167007  turismo         NaN   \n",
       "167011  turismo         NaN   \n",
       "167031  turismo         NaN   \n",
       "\n",
       "                                                     link  title_n_words  \\\n",
       "381     http://www1.folha.uol.com.br/turismo/2017/10/1...             11   \n",
       "414     http://www1.folha.uol.com.br/turismo/2017/10/1...             11   \n",
       "522     http://www1.folha.uol.com.br/turismo/2017/10/1...             11   \n",
       "602     http://www1.folha.uol.com.br/turismo/2017/10/1...              7   \n",
       "609     http://www1.folha.uol.com.br/turismo/2017/10/1...             10   \n",
       "...                                                   ...            ...   \n",
       "166982  http://www1.folha.uol.com.br/turismo/2015/01/1...             10   \n",
       "167005  http://www1.folha.uol.com.br/turismo/2015/01/1...             12   \n",
       "167007  http://www1.folha.uol.com.br/turismo/2015/01/1...             11   \n",
       "167011  http://www1.folha.uol.com.br/turismo/2015/01/1...              9   \n",
       "167031  http://www1.folha.uol.com.br/turismo/2015/01/1...             11   \n",
       "\n",
       "        title_n_chars                                        title_clean  \n",
       "381                51  latam inaugura voo direto de 15 horas entre ch...  \n",
       "414                54  turismo de las vegas deve se recuperar em mese...  \n",
       "522                58  brasileiro cria app para economizar no passeio...  \n",
       "602                38       airbnb passa a fazer reserva de restaurantes  \n",
       "609                62  museus lembram quatro décadas de opressão sovi...  \n",
       "...               ...                                                ...  \n",
       "166982             56  fotógrafo gustavo epifanio foi a cidades da co...  \n",
       "167005             58  conheça dez rituais tradicionais de passagem d...  \n",
       "167007             52  metrô de londres vai ficar mais barato para tu...  \n",
       "167011             56  redes estrangeiras de hotéis econômicos amplia...  \n",
       "167031             61  turismo estreia no instagram com dicas de viag...  \n",
       "\n",
       "[1903 rows x 9 columns]"
      ]
     },
     "execution_count": 35,
     "metadata": {},
     "output_type": "execute_result"
    }
   ],
   "source": [
    "turismo"
   ]
  },
  {
   "cell_type": "code",
   "execution_count": 36,
   "metadata": {},
   "outputs": [],
   "source": [
    "turismo['title_clean_no_stop'] = turismo['title_clean'].apply(lambda x: remove_stop(x))"
   ]
  },
  {
   "cell_type": "code",
   "execution_count": 37,
   "metadata": {},
   "outputs": [
    {
     "data": {
      "text/plain": [
       "'latam inaugura voo direto de 15 horas entre chile e austrália'"
      ]
     },
     "execution_count": 37,
     "metadata": {},
     "output_type": "execute_result"
    }
   ],
   "source": [
    "turismo.iloc[0]['title_clean']"
   ]
  },
  {
   "cell_type": "code",
   "execution_count": 38,
   "metadata": {},
   "outputs": [
    {
     "data": {
      "text/plain": [
       "'latam inaugura voo direto 15 horas chile austrália'"
      ]
     },
     "execution_count": 38,
     "metadata": {},
     "output_type": "execute_result"
    }
   ],
   "source": [
    "turismo.iloc[0]['title_clean_no_stop']"
   ]
  },
  {
   "cell_type": "code",
   "execution_count": 39,
   "metadata": {},
   "outputs": [],
   "source": [
    "# Lematização\n",
    "\n",
    "turismo['title_lemmas'] = turismo['title_clean_no_stop'].apply(lambda x : limpa_texto2(x))"
   ]
  },
  {
   "cell_type": "code",
   "execution_count": 40,
   "metadata": {},
   "outputs": [
    {
     "data": {
      "text/plain": [
       "'latar inaugurar voo direto 15 hora chile austrália'"
      ]
     },
     "execution_count": 40,
     "metadata": {},
     "output_type": "execute_result"
    }
   ],
   "source": [
    "turismo.iloc[0]['title_lemmas']"
   ]
  },
  {
   "cell_type": "code",
   "execution_count": 41,
   "metadata": {},
   "outputs": [
    {
     "data": {
      "text/plain": [
       "'viagem Japão aular Cultura tradição ator Jayme Matarazzo'"
      ]
     },
     "execution_count": 41,
     "metadata": {},
     "output_type": "execute_result"
    }
   ],
   "source": [
    "turismo.iloc[5]['title_lemmas']"
   ]
  },
  {
   "cell_type": "markdown",
   "metadata": {},
   "source": [
    "# N-grams"
   ]
  },
  {
   "cell_type": "code",
   "execution_count": 42,
   "metadata": {},
   "outputs": [],
   "source": [
    "titulos = \" \".join(turismo['title_lemmas'])"
   ]
  },
  {
   "cell_type": "code",
   "execution_count": 43,
   "metadata": {},
   "outputs": [],
   "source": [
    "token = word_tokenize(titulos)"
   ]
  },
  {
   "cell_type": "code",
   "execution_count": 44,
   "metadata": {},
   "outputs": [],
   "source": [
    "bigramas = ngrams(token, 2)"
   ]
  },
  {
   "cell_type": "code",
   "execution_count": 45,
   "metadata": {},
   "outputs": [
    {
     "name": "stdout",
     "output_type": "stream",
     "text": [
      "[(('fotógrafo', 'registrar'), 31), (('álbum', 'viagem'), 22), (('atrair', 'turista'), 19), (('companhia', 'aéreo'), 18), (('fotógrafo', 'clicar'), 11), (('atração', 'turístico'), 10), (('levar', 'turista'), 10), (('estação', 'esqui'), 10), (('opção', 'pacote'), 9), (('parque', 'temático'), 8)]\n"
     ]
    }
   ],
   "source": [
    "print(Counter(bigramas).most_common(10))"
   ]
  },
  {
   "cell_type": "code",
   "execution_count": 46,
   "metadata": {},
   "outputs": [],
   "source": [
    "trigrams = ngrams(token, 3)"
   ]
  },
  {
   "cell_type": "code",
   "execution_count": 47,
   "metadata": {},
   "outputs": [
    {
     "name": "stdout",
     "output_type": "stream",
     "text": [
      "[(('fotógrafo', 'registrar', 'paisagem'), 4), (('tema', 'ensaio', 'fotográfico'), 4), (('parque', 'harryr', 'potter'), 4), (('ter', 'montanha', 'russo'), 3), (('mundo', 'fotógrafo', 'registrar'), 3), (('pacote', 'último', 'hora'), 3), (('último', 'hora', 'viajar'), 3), (('país', 'álbum', 'viagem'), 3), (('inaugurar', 'museu', 'dedicar'), 3), (('World', 'trade', 'center'), 3)]\n"
     ]
    }
   ],
   "source": [
    "print(Counter(trigrams).most_common(10))"
   ]
  },
  {
   "cell_type": "code",
   "execution_count": 48,
   "metadata": {},
   "outputs": [],
   "source": [
    "vectorizer = CountVectorizer(min_df = 10, max_df = 0.9, stop_words=list(STOP_WORDS) ,lowercase = True)"
   ]
  },
  {
   "cell_type": "code",
   "execution_count": 49,
   "metadata": {},
   "outputs": [],
   "source": [
    "data_vectorizer = vectorizer.fit_transform(turismo['title_lemmas'])"
   ]
  },
  {
   "cell_type": "code",
   "execution_count": 50,
   "metadata": {},
   "outputs": [],
   "source": [
    "NUM_TOPICS =2"
   ]
  },
  {
   "cell_type": "code",
   "execution_count": 51,
   "metadata": {},
   "outputs": [],
   "source": [
    "lda = LatentDirichletAllocation (n_components=NUM_TOPICS, max_iter=30, learning_method='online', verbose=True)"
   ]
  },
  {
   "cell_type": "code",
   "execution_count": 52,
   "metadata": {},
   "outputs": [
    {
     "name": "stdout",
     "output_type": "stream",
     "text": [
      "iteration: 1 of max_iter: 30\n",
      "iteration: 2 of max_iter: 30\n",
      "iteration: 3 of max_iter: 30\n",
      "iteration: 4 of max_iter: 30\n",
      "iteration: 5 of max_iter: 30\n",
      "iteration: 6 of max_iter: 30\n",
      "iteration: 7 of max_iter: 30\n",
      "iteration: 8 of max_iter: 30\n",
      "iteration: 9 of max_iter: 30\n",
      "iteration: 10 of max_iter: 30\n",
      "iteration: 11 of max_iter: 30\n",
      "iteration: 12 of max_iter: 30\n",
      "iteration: 13 of max_iter: 30\n",
      "iteration: 14 of max_iter: 30\n",
      "iteration: 15 of max_iter: 30\n",
      "iteration: 16 of max_iter: 30\n",
      "iteration: 17 of max_iter: 30\n",
      "iteration: 18 of max_iter: 30\n",
      "iteration: 19 of max_iter: 30\n",
      "iteration: 20 of max_iter: 30\n",
      "iteration: 21 of max_iter: 30\n",
      "iteration: 22 of max_iter: 30\n",
      "iteration: 23 of max_iter: 30\n",
      "iteration: 24 of max_iter: 30\n",
      "iteration: 25 of max_iter: 30\n",
      "iteration: 26 of max_iter: 30\n",
      "iteration: 27 of max_iter: 30\n",
      "iteration: 28 of max_iter: 30\n",
      "iteration: 29 of max_iter: 30\n",
      "iteration: 30 of max_iter: 30\n"
     ]
    }
   ],
   "source": [
    "data_lda = lda.fit_transform(data_vectorizer)"
   ]
  },
  {
   "cell_type": "code",
   "execution_count": 53,
   "metadata": {},
   "outputs": [],
   "source": [
    "pyLDAvis.enable_notebook()"
   ]
  },
  {
   "cell_type": "code",
   "execution_count": 54,
   "metadata": {},
   "outputs": [],
   "source": [
    "dash = pyLDAvis.lda_model.prepare(lda, data_vectorizer, vectorizer, mds= 'tsne')"
   ]
  },
  {
   "cell_type": "code",
   "execution_count": 55,
   "metadata": {},
   "outputs": [
    {
     "data": {
      "text/html": [
       "\n",
       "<link rel=\"stylesheet\" type=\"text/css\" href=\"https://cdn.jsdelivr.net/gh/bmabey/pyLDAvis@3.4.0/pyLDAvis/js/ldavis.v1.0.0.css\">\n",
       "\n",
       "\n",
       "<div id=\"ldavis_el61491404949622592485725517601\" style=\"background-color:white;\"></div>\n",
       "<script type=\"text/javascript\">\n",
       "\n",
       "var ldavis_el61491404949622592485725517601_data = {\"mdsDat\": {\"x\": [13.141898155212402, -13.141592979431152], \"y\": [-30.803396224975586, 30.803640365600586], \"topics\": [1, 2], \"cluster\": [1, 1], \"Freq\": [50.47227406061046, 49.52772593938955]}, \"tinfo\": {\"Term\": [\"turista\", \"turismo\", \"hotel\", \"fot\\u00f3grafo\", \"mundo\", \"brasil\", \"cidade\", \"conhecer\", \"ano\", \"museu\", \"parque\", \"rio\", \"eua\", \"brasileiro\", \"destino\", \"pa\\u00eds\", \"pacote\", \"tur\\u00edstico\", \"passeio\", \"viagem\", \"ilha\", \"registrar\", \"praia\", \"viajar\", \"paris\", \"abrir\", \"a\\u00e9reo\", \"cruzeiro\", \"imagem\", \"londr\", \"turista\", \"fot\\u00f3grafo\", \"parque\", \"museu\", \"eua\", \"registrar\", \"ilha\", \"brasileiro\", \"abrir\", \"praia\", \"paris\", \"imagem\", \"atrair\", \"\\u00e1lbum\", \"inaugurar\", \"pa\\u00eds\", \"levar\", \"it\\u00e1lia\", \"visitante\", \"sul\", \"turismo\", \"airbnb\", \"norte\", \"china\", \"paisagem\", \"para\\u00edso\", \"cuba\", \"destaque\", \"avi\\u00e3o\", \"receber\", \"passar\", \"luxo\", \"viagem\", \"esqui\", \"mar\", \"brasil\", \"mundo\", \"conhecer\", \"ano\", \"rio\", \"cidade\", \"pacote\", \"destino\", \"tur\\u00edstico\", \"passeio\", \"a\\u00e9reo\", \"viajar\", \"cruzeiro\", \"londr\", \"sp\", \"companhia\", \"criar\", \"paulo\", \"dia\", \"crise\", \"op\\u00e7\\u00e3o\", \"mostrar\", \"europa\", \"permitir\", \"alto\", \"ficar\", \"aeroporto\", \"fechar\", \"carnaval\", \"rede\", \"hotel\", \"regi\\u00e3o\", \"atra\\u00e7\\u00e3o\", \"oferecer\"], \"Freq\": [176.0, 113.0, 103.0, 83.0, 79.0, 77.0, 78.0, 74.0, 73.0, 66.0, 64.0, 59.0, 60.0, 56.0, 53.0, 54.0, 49.0, 48.0, 48.0, 114.0, 47.0, 45.0, 45.0, 41.0, 40.0, 38.0, 37.0, 34.0, 33.0, 33.0, 175.56294505110284, 82.87139588979873, 64.24846142086552, 65.60608343904293, 60.16185292648752, 45.4639559443149, 46.853998823998324, 55.4043842516721, 38.18486554641134, 44.435688061122235, 40.21116890349917, 33.416964909221214, 29.433677117009427, 26.174763579109275, 30.28154672340479, 53.69807543973824, 27.65567052238639, 25.742139959432873, 27.109496076238944, 34.278248554423186, 111.0003275133064, 24.809264192739164, 24.14897121759733, 23.758755130088463, 23.730425934913328, 19.820932591326077, 20.544657328239516, 31.76191737503838, 24.969712224784107, 20.983114994000527, 27.217194745204043, 22.371776286614026, 97.8223951212672, 23.33858308740475, 25.145618579984713, 77.05797692700156, 79.21387445828924, 74.13658119485687, 72.56645370609881, 58.49561536168954, 77.90170867568638, 49.23855169991286, 52.73619521489367, 47.90665422923026, 47.66103621401027, 36.514565272866825, 40.77222256971318, 34.39662136779728, 32.60698988064575, 27.490113054093307, 22.809768971569852, 31.27173959400216, 25.962116838313285, 23.030236403331166, 26.792160768901102, 19.988650774439105, 25.392516237224623, 21.415994562259485, 22.610587462502792, 23.922116356330367, 18.991726526218834, 20.606828893203993, 22.11929180312576, 17.151644593041844, 17.057713360796235, 98.76510163615296, 21.337608640269305, 36.295662678123094, 22.145713164224883], \"Total\": [176.0, 113.0, 103.0, 83.0, 79.0, 77.0, 78.0, 74.0, 73.0, 66.0, 64.0, 59.0, 60.0, 56.0, 53.0, 54.0, 49.0, 48.0, 48.0, 114.0, 47.0, 45.0, 45.0, 41.0, 40.0, 38.0, 37.0, 34.0, 33.0, 33.0, 176.17200498512221, 83.38656185535207, 64.78722183240826, 66.16235503682789, 60.76744367377725, 45.97142070843517, 47.418689490310726, 56.157766968603546, 38.74539703062125, 45.1018369728973, 40.841886804591226, 33.9643307952499, 29.980531455642566, 26.680088797754042, 30.86923049079199, 54.77807578904399, 28.233168530958395, 26.292373211506586, 27.70189518168863, 35.03142307273385, 113.50246320868364, 25.37876460710222, 24.72963815837785, 24.35331512941753, 24.366430973999304, 20.361656899386244, 21.12562714930411, 32.67092872374579, 25.718216600075905, 21.621321159799265, 28.05063448000433, 23.10294021863123, 114.97421030123296, 24.48681020909183, 28.856278638808387, 77.6386715560713, 79.81948646880538, 74.70995610534308, 73.14627449591984, 59.08483739238339, 78.7361408293696, 49.79272834293257, 53.36275468836534, 48.496153741025005, 48.316741812381686, 37.042247782605834, 41.374420055904224, 34.94843512538804, 33.21642554159324, 28.071537244339535, 23.30504256756427, 31.953752655770465, 26.563707507761126, 23.57219651405406, 27.449821228588743, 20.49343643547973, 26.05813767314886, 21.995615251454748, 23.240392948790802, 24.596768821654543, 19.54773550978024, 21.210420963718157, 22.792329272470838, 17.678761762776585, 17.621355680930428, 103.19097648109367, 22.809079297246925, 56.25868351714516, 39.16746243379853], \"Category\": [\"Default\", \"Default\", \"Default\", \"Default\", \"Default\", \"Default\", \"Default\", \"Default\", \"Default\", \"Default\", \"Default\", \"Default\", \"Default\", \"Default\", \"Default\", \"Default\", \"Default\", \"Default\", \"Default\", \"Default\", \"Default\", \"Default\", \"Default\", \"Default\", \"Default\", \"Default\", \"Default\", \"Default\", \"Default\", \"Default\", \"Topic1\", \"Topic1\", \"Topic1\", \"Topic1\", \"Topic1\", \"Topic1\", \"Topic1\", \"Topic1\", \"Topic1\", \"Topic1\", \"Topic1\", \"Topic1\", \"Topic1\", \"Topic1\", \"Topic1\", \"Topic1\", \"Topic1\", \"Topic1\", \"Topic1\", \"Topic1\", \"Topic1\", \"Topic1\", \"Topic1\", \"Topic1\", \"Topic1\", \"Topic1\", \"Topic1\", \"Topic1\", \"Topic1\", \"Topic1\", \"Topic1\", \"Topic1\", \"Topic1\", \"Topic1\", \"Topic1\", \"Topic2\", \"Topic2\", \"Topic2\", \"Topic2\", \"Topic2\", \"Topic2\", \"Topic2\", \"Topic2\", \"Topic2\", \"Topic2\", \"Topic2\", \"Topic2\", \"Topic2\", \"Topic2\", \"Topic2\", \"Topic2\", \"Topic2\", \"Topic2\", \"Topic2\", \"Topic2\", \"Topic2\", \"Topic2\", \"Topic2\", \"Topic2\", \"Topic2\", \"Topic2\", \"Topic2\", \"Topic2\", \"Topic2\", \"Topic2\", \"Topic2\", \"Topic2\", \"Topic2\", \"Topic2\"], \"logprob\": [30.0, 29.0, 28.0, 27.0, 26.0, 25.0, 24.0, 23.0, 22.0, 21.0, 20.0, 19.0, 18.0, 17.0, 16.0, 15.0, 14.0, 13.0, 12.0, 11.0, 10.0, 9.0, 8.0, 7.0, 6.0, 5.0, 4.0, 3.0, 2.0, 1.0, -2.6712, -3.4219, -3.6765, -3.6556, -3.7422, -4.0223, -3.9922, -3.8246, -4.1968, -4.0452, -4.1451, -4.3302, -4.4571, -4.5744, -4.4287, -3.8559, -4.5194, -4.5911, -4.5393, -4.3047, -3.1297, -4.628, -4.655, -4.6713, -4.6725, -4.8525, -4.8166, -4.381, -4.6216, -4.7955, -4.5354, -4.7314, -3.2561, -4.6891, -4.6145, -3.4758, -3.4482, -3.5144, -3.5358, -3.7514, -3.4649, -3.9237, -3.855, -3.9511, -3.9562, -4.2226, -4.1123, -4.2824, -4.3358, -4.5065, -4.6931, -4.3776, -4.5637, -4.6835, -4.5322, -4.8252, -4.5859, -4.7562, -4.7019, -4.6455, -4.8763, -4.7947, -4.7239, -4.9782, -4.9837, -3.2276, -4.7599, -4.2286, -4.7227], \"loglift\": [30.0, 29.0, 28.0, 27.0, 26.0, 25.0, 24.0, 23.0, 22.0, 21.0, 20.0, 19.0, 18.0, 17.0, 16.0, 15.0, 14.0, 13.0, 12.0, 11.0, 10.0, 9.0, 8.0, 7.0, 6.0, 5.0, 4.0, 3.0, 2.0, 1.0, 0.6803, 0.6775, 0.6754, 0.6753, 0.6737, 0.6726, 0.6718, 0.6702, 0.6692, 0.6689, 0.6682, 0.6675, 0.6653, 0.6646, 0.6645, 0.6638, 0.6631, 0.6626, 0.6621, 0.662, 0.6615, 0.6611, 0.66, 0.659, 0.6573, 0.6568, 0.6559, 0.6555, 0.6542, 0.6538, 0.6536, 0.6516, 0.5222, 0.6357, 0.5461, 0.6951, 0.695, 0.6949, 0.6947, 0.6926, 0.692, 0.6914, 0.6908, 0.6904, 0.689, 0.6883, 0.688, 0.6867, 0.6841, 0.6817, 0.6812, 0.6811, 0.6797, 0.6794, 0.6784, 0.6777, 0.6768, 0.6759, 0.6752, 0.6748, 0.6738, 0.6738, 0.6727, 0.6724, 0.6701, 0.6588, 0.636, 0.2644, 0.1324]}, \"token.table\": {\"Topic\": [1, 2, 1, 2, 1, 2, 1, 2, 1, 2, 1, 2, 1, 2, 1, 2, 1, 2, 1, 2, 1, 2, 1, 2, 1, 2, 1, 2, 2, 1, 2, 1, 2, 1, 2, 1, 2, 1, 2, 1, 2, 1, 2, 1, 2, 1, 2, 1, 2, 1, 2, 1, 2, 1, 2, 1, 2, 1, 2, 1, 2, 1, 2, 1, 2, 1, 2, 1, 2, 1, 2, 1, 2, 1, 2, 1, 2, 1, 2, 1, 2, 1, 2, 1, 2, 1, 2, 1, 2, 1, 2, 1, 2, 1, 2, 1, 2, 1, 2, 1, 2, 1, 2, 1, 2, 1, 2, 1, 2, 1, 2, 1, 2, 1, 2, 1, 2, 1, 2, 1, 2, 1, 2, 1, 2, 1, 2, 1, 2, 1, 2, 1, 2, 1, 2, 1, 2], \"Freq\": [0.980761662345797, 0.02580951743015255, 0.04714663616109114, 0.9900793593829139, 0.9850755301542052, 0.03940302120616821, 0.04065574658406426, 0.9757379180175423, 0.013671236257641268, 0.9980002468078125, 0.9672943937937424, 0.033354979096335946, 0.3555006756228998, 0.6399012161212196, 0.9720736234846943, 0.03888294493938777, 0.026996201900835414, 0.9988594703309103, 0.012880179167900775, 0.9917737959283597, 0.9793836715542691, 0.017806975846441257, 0.056565047564900404, 0.9616058086033068, 0.9854921135976783, 0.041062171399903265, 0.012700647878680218, 0.9906505345370571, 0.9869108770481789, 0.013385096875039956, 0.9904971687529568, 0.03129522878807826, 0.970152092430426, 0.03643010975089735, 0.9836129632742286, 0.028613584454130744, 0.9728618714404453, 0.9940533292376957, 0.04733587282084265, 0.9794640449489841, 0.030608251404655753, 0.01873966225769131, 0.9932020996576394, 0.042422860313581154, 0.9757257872123666, 0.9392811805050956, 0.04083831219587372, 0.9873708086537722, 0.01645618014422954, 0.04546360665832532, 0.9547357398248317, 0.043874410028282004, 0.9652370206222041, 0.05115682067110403, 0.9719795927509766, 0.995364218805152, 0.011992339985604242, 0.03876307925754407, 0.9593862116242158, 0.9911703698518223, 0.021088731273443028, 0.97160754318808, 0.02944265282388121, 0.9718415238419607, 0.03239471746139869, 0.9888799231185935, 0.038033843196868984, 0.991741326139051, 0.03541933307639468, 0.030105587332020754, 0.9934843819566849, 0.9522597466732061, 0.043284533939691186, 0.8663625796286104, 0.13861801274057767, 0.038375727864483275, 0.9593931966120818, 0.01252826902602054, 0.9897332530556227, 0.9975461115805578, 0.015114335023947847, 0.9704953969117958, 0.04043730820465816, 0.4340337347290157, 0.5616907155316674, 0.048796111045033286, 0.9759222209006657, 0.020083253785829893, 0.9840794355056648, 0.9849616476705058, 0.04104006865293774, 0.9822383364392538, 0.04911191682196269, 0.9793866818979434, 0.024484667047448585, 0.9878491188517907, 0.01543514248205923, 0.9625450725275656, 0.03564981750102095, 0.02069675980808249, 0.9934444707879595, 0.037645347499321385, 0.978779034982356, 0.9857958539463774, 0.018255478776784767, 0.04302853235758348, 0.98965624422442, 0.9755700200513026, 0.022172045910256875, 0.971263497026514, 0.04625064271554829, 0.056749322702916966, 0.9647384859495884, 0.9788690300742233, 0.02175264511276052, 0.043842190514051166, 0.9206860007950746, 0.016924815978742284, 0.9816393267670525, 0.03562327176085251, 0.9618283375430178, 0.9705572031546545, 0.028545800092783957, 0.977952344487162, 0.02643114444559897, 0.9990236531329894, 0.005676270756437439, 0.02062019197110175, 0.9897692146128841, 0.8523650629409809, 0.14785924561221098, 0.024169523068814536, 0.990950445821396, 0.9746625573057328, 0.036098613233545664, 0.9745095002153331, 0.03748113462366666], \"Term\": [\"abrir\", \"abrir\", \"aeroporto\", \"aeroporto\", \"airbnb\", \"airbnb\", \"alto\", \"alto\", \"ano\", \"ano\", \"atrair\", \"atrair\", \"atra\\u00e7\\u00e3o\", \"atra\\u00e7\\u00e3o\", \"avi\\u00e3o\", \"avi\\u00e3o\", \"a\\u00e9reo\", \"a\\u00e9reo\", \"brasil\", \"brasil\", \"brasileiro\", \"brasileiro\", \"carnaval\", \"carnaval\", \"china\", \"china\", \"cidade\", \"cidade\", \"companhia\", \"conhecer\", \"conhecer\", \"criar\", \"criar\", \"crise\", \"crise\", \"cruzeiro\", \"cruzeiro\", \"cuba\", \"cuba\", \"destaque\", \"destaque\", \"destino\", \"destino\", \"dia\", \"dia\", \"esqui\", \"esqui\", \"eua\", \"eua\", \"europa\", \"europa\", \"fechar\", \"fechar\", \"ficar\", \"ficar\", \"fot\\u00f3grafo\", \"fot\\u00f3grafo\", \"hotel\", \"hotel\", \"ilha\", \"ilha\", \"imagem\", \"imagem\", \"inaugurar\", \"inaugurar\", \"it\\u00e1lia\", \"it\\u00e1lia\", \"levar\", \"levar\", \"londr\", \"londr\", \"luxo\", \"luxo\", \"mar\", \"mar\", \"mostrar\", \"mostrar\", \"mundo\", \"mundo\", \"museu\", \"museu\", \"norte\", \"norte\", \"oferecer\", \"oferecer\", \"op\\u00e7\\u00e3o\", \"op\\u00e7\\u00e3o\", \"pacote\", \"pacote\", \"paisagem\", \"paisagem\", \"para\\u00edso\", \"para\\u00edso\", \"paris\", \"paris\", \"parque\", \"parque\", \"passar\", \"passar\", \"passeio\", \"passeio\", \"paulo\", \"paulo\", \"pa\\u00eds\", \"pa\\u00eds\", \"permitir\", \"permitir\", \"praia\", \"praia\", \"receber\", \"receber\", \"rede\", \"rede\", \"registrar\", \"registrar\", \"regi\\u00e3o\", \"regi\\u00e3o\", \"rio\", \"rio\", \"sp\", \"sp\", \"sul\", \"sul\", \"turismo\", \"turismo\", \"turista\", \"turista\", \"tur\\u00edstico\", \"tur\\u00edstico\", \"viagem\", \"viagem\", \"viajar\", \"viajar\", \"visitante\", \"visitante\", \"\\u00e1lbum\", \"\\u00e1lbum\"]}, \"R\": 30, \"lambda.step\": 0.01, \"plot.opts\": {\"xlab\": \"PC1\", \"ylab\": \"PC2\"}, \"topic.order\": [2, 1]};\n",
       "\n",
       "function LDAvis_load_lib(url, callback){\n",
       "  var s = document.createElement('script');\n",
       "  s.src = url;\n",
       "  s.async = true;\n",
       "  s.onreadystatechange = s.onload = callback;\n",
       "  s.onerror = function(){console.warn(\"failed to load library \" + url);};\n",
       "  document.getElementsByTagName(\"head\")[0].appendChild(s);\n",
       "}\n",
       "\n",
       "if(typeof(LDAvis) !== \"undefined\"){\n",
       "   // already loaded: just create the visualization\n",
       "   !function(LDAvis){\n",
       "       new LDAvis(\"#\" + \"ldavis_el61491404949622592485725517601\", ldavis_el61491404949622592485725517601_data);\n",
       "   }(LDAvis);\n",
       "}else if(typeof define === \"function\" && define.amd){\n",
       "   // require.js is available: use it to load d3/LDAvis\n",
       "   require.config({paths: {d3: \"https://d3js.org/d3.v5\"}});\n",
       "   require([\"d3\"], function(d3){\n",
       "      window.d3 = d3;\n",
       "      LDAvis_load_lib(\"https://cdn.jsdelivr.net/gh/bmabey/pyLDAvis@3.4.0/pyLDAvis/js/ldavis.v3.0.0.js\", function(){\n",
       "        new LDAvis(\"#\" + \"ldavis_el61491404949622592485725517601\", ldavis_el61491404949622592485725517601_data);\n",
       "      });\n",
       "    });\n",
       "}else{\n",
       "    // require.js not available: dynamically load d3 & LDAvis\n",
       "    LDAvis_load_lib(\"https://d3js.org/d3.v5.js\", function(){\n",
       "         LDAvis_load_lib(\"https://cdn.jsdelivr.net/gh/bmabey/pyLDAvis@3.4.0/pyLDAvis/js/ldavis.v3.0.0.js\", function(){\n",
       "                 new LDAvis(\"#\" + \"ldavis_el61491404949622592485725517601\", ldavis_el61491404949622592485725517601_data);\n",
       "            })\n",
       "         });\n",
       "}\n",
       "</script>"
      ],
      "text/plain": [
       "PreparedData(topic_coordinates=               x          y  topics  cluster       Freq\n",
       "topic                                                  \n",
       "1      13.141898 -30.803396       1        1  50.472274\n",
       "0     -13.141593  30.803640       2        1  49.527726, topic_info=          Term        Freq       Total Category  logprob  loglift\n",
       "192    turista  176.000000  176.000000  Default  30.0000  30.0000\n",
       "191    turismo  113.000000  113.000000  Default  29.0000  29.0000\n",
       "104      hotel  103.000000  103.000000  Default  28.0000  28.0000\n",
       "92   fotógrafo   83.000000   83.000000  Default  27.0000  27.0000\n",
       "125      mundo   79.000000   79.000000  Default  26.0000  26.0000\n",
       "..         ...         ...         ...      ...      ...      ...\n",
       "163       rede   17.057713   17.621356   Topic2  -4.9837   0.6701\n",
       "104      hotel   98.765102  103.190976   Topic2  -3.2276   0.6588\n",
       "165     região   21.337609   22.809079   Topic2  -4.7599   0.6360\n",
       "20     atração   36.295663   56.258684   Topic2  -4.2286   0.2644\n",
       "133   oferecer   22.145713   39.167462   Topic2  -4.7227   0.1324\n",
       "\n",
       "[99 rows x 6 columns], token_table=      Topic      Freq       Term\n",
       "term                            \n",
       "5         1  0.980762      abrir\n",
       "5         2  0.025810      abrir\n",
       "6         1  0.047147  aeroporto\n",
       "6         2  0.990079  aeroporto\n",
       "8         1  0.985076     airbnb\n",
       "...     ...       ...        ...\n",
       "199       2  0.990950     viajar\n",
       "203       1  0.974663  visitante\n",
       "203       2  0.036099  visitante\n",
       "213       1  0.974510      álbum\n",
       "213       2  0.037481      álbum\n",
       "\n",
       "[137 rows x 3 columns], R=30, lambda_step=0.01, plot_opts={'xlab': 'PC1', 'ylab': 'PC2'}, topic_order=[2, 1])"
      ]
     },
     "execution_count": 55,
     "metadata": {},
     "output_type": "execute_result"
    }
   ],
   "source": [
    "dash"
   ]
  }
 ],
 "metadata": {
  "kernelspec": {
   "display_name": "venv",
   "language": "python",
   "name": "python3"
  },
  "language_info": {
   "codemirror_mode": {
    "name": "ipython",
    "version": 3
   },
   "file_extension": ".py",
   "mimetype": "text/x-python",
   "name": "python",
   "nbconvert_exporter": "python",
   "pygments_lexer": "ipython3",
   "version": "3.10.12"
  }
 },
 "nbformat": 4,
 "nbformat_minor": 2
}
